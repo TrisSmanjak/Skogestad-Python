{
 "cells": [
  {
   "cell_type": "code",
   "execution_count": 2,
   "metadata": {},
   "outputs": [
    {
     "name": "stdout",
     "output_type": "stream",
     "text": [
      "Zeros | 4.000e+00\n",
      "\n",
      "   u1 |-8.000e-01\n",
      "   u2 |6.000e-01\n",
      "   y1 |-8.321e-01\n",
      "   y2 |5.547e-01\n",
      "   e  | True\n",
      "\n",
      "Poles | -2.000e+00\n",
      "\n",
      "   u1 |6.000e-01\n",
      "   u2 |-8.000e-01\n",
      "   y1 |-5.547e-01\n",
      "   y2 |8.321e-01\n",
      "   e  | True\n",
      "\n"
     ]
    }
   ],
   "source": [
    "from utils import pole_zero_directions, tf, mimotf\n",
    "from reporting import display_export_data\n",
    "\n",
    "s = tf([1, 0])\n",
    "\n",
    "G = 1/(s + 2)*mimotf([[s - 1, 4],\n",
    "                      [4.5, 2*(s - 1)]])\n",
    "\n",
    "# Poles and zeros calculated in Example 4.11\n",
    "\n",
    "zerodata = pole_zero_directions(G, [4.], 'z')\n",
    "poledata = pole_zero_directions(G, [-2.], 'p')\n",
    "rowhead = ['   u', '   y', '   e ']\n",
    "\n",
    "display_export_data(zerodata, 'Zeros', rowhead)\n",
    "display_export_data(poledata, 'Poles', rowhead)\n"
   ]
  },
  {
   "cell_type": "code",
   "execution_count": null,
   "metadata": {},
   "outputs": [],
   "source": []
  }
 ],
 "metadata": {
  "kernelspec": {
   "display_name": "Python 3",
   "language": "python",
   "name": "python3"
  },
  "language_info": {
   "codemirror_mode": {
    "name": "ipython",
    "version": 3
   },
   "file_extension": ".py",
   "mimetype": "text/x-python",
   "name": "python",
   "nbconvert_exporter": "python",
   "pygments_lexer": "ipython3",
   "version": "3.7.4"
  }
 },
 "nbformat": 4,
 "nbformat_minor": 4
}
