{
 "cells": [
  {
   "cell_type": "code",
   "execution_count": 1,
   "metadata": {},
   "outputs": [
    {
     "name": "stdout",
     "output_type": "stream",
     "text": [
      "The RHP poles of the system are: [(1-2j), (1+2j)]\n",
      "The RHP zeros of the system are: [2.0]\n",
      "The tight lower bound on ||S|| and ||T|| is: [2.6]\n"
     ]
    }
   ],
   "source": [
    "from utils import tf, RHPonly\n",
    "import numpy as np\n",
    "\n",
    "s = tf([1,0],[1])\n",
    "G = 10*(s - 2)/(s**2 - 2*s + 5)\n",
    "\n",
    "RHPpoles = RHPonly(G.poles())\n",
    "RHPzeros = RHPonly(G.zeros())\n",
    "\n",
    "print(\"The RHP poles of the system are:\",RHPpoles)\n",
    "print(\"The RHP zeros of the system are:\",RHPzeros)\n",
    "\n",
    "Ms = 1\n",
    "for p in RHPpoles:\n",
    "    Ms *= np.abs(RHPzeros + p)/np.abs(RHPzeros - p)\n",
    "    \n",
    "print(\"The tight lower bound on ||S|| and ||T|| is:\", Ms)"
   ]
  },
  {
   "cell_type": "code",
   "execution_count": null,
   "metadata": {},
   "outputs": [],
   "source": []
  }
 ],
 "metadata": {
  "kernelspec": {
   "display_name": "Python 3",
   "language": "python",
   "name": "python3"
  },
  "language_info": {
   "codemirror_mode": {
    "name": "ipython",
    "version": 3
   },
   "file_extension": ".py",
   "mimetype": "text/x-python",
   "name": "python",
   "nbconvert_exporter": "python",
   "pygments_lexer": "ipython3",
   "version": "3.7.4"
  }
 },
 "nbformat": 4,
 "nbformat_minor": 4
}
