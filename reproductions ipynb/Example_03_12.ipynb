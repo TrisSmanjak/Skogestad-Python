{
 "cells": [
  {
   "cell_type": "code",
   "execution_count": 1,
   "metadata": {},
   "outputs": [
    {
     "name": "stdout",
     "output_type": "stream",
     "text": [
      "RGA:\n",
      " [[1. 0.]\n",
      " [0. 1.]] \n",
      "Iterative RGA:\n",
      " [[1. 0.]\n",
      " [0. 1.]] \n",
      "Condition Number:\n",
      " 100.0\n"
     ]
    }
   ],
   "source": [
    "from __future__ import print_function\n",
    "import numpy as np\n",
    "from utils import RGA\n",
    "\n",
    "\n",
    "# The following code performs Example 3.12 of Skogestad.\n",
    "# Here the RGA, iterative RGA, condition number and minimized\n",
    "# condition number is calculated for constant transfer function G.\n",
    "# The minimized condition number is not implemented.\n",
    "# Examples 3.13-15 are all similar\n",
    "\n",
    "def condnum(A):\n",
    "    gamma = A[0]/A[-1]\n",
    "    return gamma\n",
    "\n",
    "\n",
    "def IterRGA(A, n):\n",
    "    for _ in range(1, n):\n",
    "        A = RGA(A)\n",
    "    return A\n",
    "\n",
    "\n",
    "def RGAnumber(A):\n",
    "    RGAnum = np.sum(np.abs(RGA(A) - np.identity(len(A))))\n",
    "    return RGAnum\n",
    "\n",
    "\n",
    "G = np.matrix([[100, 0], [0, 1]])\n",
    "\n",
    "[U, S, V] = np.linalg.svd(G)\n",
    "\n",
    "R = RGA(G)\n",
    "ItR = IterRGA(G, 4)\n",
    "numR = RGAnumber(G)\n",
    "numC = condnum(S)\n",
    "\n",
    "print('RGA:\\n', R, '\\nIterative RGA:\\n', ItR, '\\nCondition Number:\\n', numC)\n"
   ]
  },
  {
   "cell_type": "code",
   "execution_count": null,
   "metadata": {},
   "outputs": [],
   "source": []
  }
 ],
 "metadata": {
  "kernelspec": {
   "display_name": "Python 3",
   "language": "python",
   "name": "python3"
  },
  "language_info": {
   "codemirror_mode": {
    "name": "ipython",
    "version": 3
   },
   "file_extension": ".py",
   "mimetype": "text/x-python",
   "name": "python",
   "nbconvert_exporter": "python",
   "pygments_lexer": "ipython3",
   "version": "3.7.4"
  }
 },
 "nbformat": 4,
 "nbformat_minor": 4
}
