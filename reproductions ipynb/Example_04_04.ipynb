{
 "cells": [
  {
   "cell_type": "code",
   "execution_count": 1,
   "metadata": {},
   "outputs": [
    {
     "name": "stdout",
     "output_type": "stream",
     "text": [
      "\n",
      "The transfer function realization is:\n",
      "G(s) = \n",
      " \n",
      "1\n",
      "----------------\n",
      "   2\n",
      "1 s + 6 s + 8\n",
      "\n",
      "1) Eigenvalues are: p1 =  (-2+0j) and p2 =  (-4+0j)\n",
      "   with eigenvectors: q1 =  [ 0.70710678 -0.70710678] and q2 =  [0. 1.]\n",
      "   Input pole vectors are: up1 =  [[0.]] and up2 =  [[1.]]\n",
      "\n",
      "2) The controllability matrix has rank 1 and is given as:\n",
      "[[ 1 -4]\n",
      " [ 1 -4]]\n",
      "\n",
      "3) The controllability Gramian =\n",
      "   [0.125 0.125] \n",
      "   [0.125 0.125]\n",
      "\n",
      "More properties\n",
      "\n",
      "State Controllable: False\n",
      "Zeros: [-2.+0.j]\n"
     ]
    },
    {
     "name": "stderr",
     "output_type": "stream",
     "text": [
      "C:\\Users\\Tristan-Lee Smanjak\\Anaconda3\\lib\\site-packages\\scipy\\signal\\filter_design.py:1619: BadCoefficients: Badly conditioned filter coefficients (numerator): the results may be meaningless\n",
      "  \"results may be meaningless\", BadCoefficients)\n"
     ]
    }
   ],
   "source": [
    "from __future__ import print_function\n",
    "import numpy as np\n",
    "import numpy.linalg as lin\n",
    "import scipy.linalg as LA\n",
    "import scipy.signal as sign\n",
    "\n",
    "from utils import state_controllability, zeros\n",
    "\n",
    "# This module executes Example 4.4.\n",
    "# The controllability Gramian has been included\n",
    "\n",
    "# Define state space matrices\n",
    "A = np.matrix([[-2, -2],\n",
    "               [0, -4]])\n",
    "B = np.matrix([[1],\n",
    "              [1]])\n",
    "C = np.matrix([[1, 0]])\n",
    "D = np.matrix([[0]])\n",
    "\n",
    "# Create frequency domain mode;\n",
    "G = sign.lti(A, B, C, D)\n",
    "control, in_vecs, c_matrix = state_controllability(A, B)\n",
    "\n",
    "# Question: Why does A.transpose give the same eigenvectors as the book\n",
    "# and not plain A??\n",
    "# Answer: The eig function in the numpy library only calculates\n",
    "# the right hand eigenvectors. The Scipy library provides a eig function\n",
    "# in which you can specify whether you want left or right handed eigenvectors.\n",
    "# To determine controllability you need to calculate the input pole vectors\n",
    "# which is dependant on the left eigenvectors.\n",
    "\n",
    "# Calculate eigen vectors and pole vectors\n",
    "val, vec = LA.eig(A, None, 1, 0, 0, 0)\n",
    "\n",
    "n = lin.matrix_rank(c_matrix)\n",
    "\n",
    "P = LA.solve_continuous_lyapunov(A, -B * B.T)\n",
    "\n",
    "\n",
    "# Display results\n",
    "G_tf = G.to_tf()\n",
    "print('\\nThe transfer function realization is:')\n",
    "print('G(s) = ')\n",
    "print(np.poly1d(G_tf.num[0], variable='s'))\n",
    "print(\"----------------\")\n",
    "print(np.poly1d(G_tf.den, variable='s'))\n",
    "\n",
    "print('\\n1) Eigenvalues are: p1 = ', val[0], 'and p2 = ', val[1])\n",
    "print('   with eigenvectors: q1 = ', vec[:, 0], 'and q2 = ', vec[:, 1])\n",
    "print('   Input pole vectors are: up1 = ', in_vecs[0], 'and up2 = ', in_vecs[1])\n",
    "\n",
    "print('\\n2) The controllability matrix has rank', n, 'and is given as:')\n",
    "print(c_matrix)\n",
    "\n",
    "print('\\n3) The controllability Gramian =')\n",
    "print('  ', P[0, :], '\\n  ', P[1, :])\n",
    "\n",
    "print('\\nMore properties')\n",
    "print(\"\\nState Controllable: \" + str(control))\n",
    "print('Zeros: {0}'.format(zeros(None, A, B, C, D)))\n"
   ]
  },
  {
   "cell_type": "code",
   "execution_count": null,
   "metadata": {},
   "outputs": [],
   "source": []
  }
 ],
 "metadata": {
  "kernelspec": {
   "display_name": "Python 3",
   "language": "python",
   "name": "python3"
  },
  "language_info": {
   "codemirror_mode": {
    "name": "ipython",
    "version": 3
   },
   "file_extension": ".py",
   "mimetype": "text/x-python",
   "name": "python",
   "nbconvert_exporter": "python",
   "pygments_lexer": "ipython3",
   "version": "3.7.4"
  }
 },
 "nbformat": 4,
 "nbformat_minor": 4
}
