{
 "cells": [
  {
   "cell_type": "code",
   "execution_count": 1,
   "metadata": {},
   "outputs": [
    {
     "name": "stdout",
     "output_type": "stream",
     "text": [
      "Poles: [-10.   2.]\n",
      "Zeros: [1.9999999999999996, -2.5000000000000004]\n",
      "\n",
      "Poles | 2.000e+00\n",
      "\n",
      "   u1 |-9.662e-01\n",
      "   u2 |2.577e-01\n",
      "   y1 |-1.000e+00\n",
      "   y2 |-7.227e-09\n",
      "   e  | True\n",
      "\n",
      "||KS||inf >= 0.859\n"
     ]
    }
   ],
   "source": [
    "from __future__ import print_function\n",
    "from utils import pole_zero_directions, BoundKS, tf, mimotf\n",
    "from reporting import display_export_data\n",
    "\n",
    "s = tf([1, 0])\n",
    "\n",
    "G11 = (s + 2.5) / (s - 2)\n",
    "G12 = -(0.1 * s + 1) / (s - 2)\n",
    "G21 = (s + 2.5) / (0.1 * s + 1)\n",
    "G22 = 1\n",
    "G = mimotf([[G11, G12],\n",
    "            [G21, G22]])\n",
    "\n",
    "p = G.poles()\n",
    "z = G.zeros()\n",
    "print('Poles: {0}'.format(p))\n",
    "print('Zeros: {0}\\n'.format(z))\n",
    "\n",
    "\n",
    "# stable matrix\n",
    "G11 = (s + 2.5) / (s + 2)\n",
    "G12 = -(0.1 * s + 1) / (s + 2)\n",
    "G21 = (s + 2.5) / (0.1 * s + 1)\n",
    "G22 = 1\n",
    "Gs = mimotf([[G11, G12],\n",
    "             [G21, G22]])\n",
    "\n",
    "# select RHP-pole\n",
    "p = [2.]\n",
    "pdir = pole_zero_directions(G, p, 'p')\n",
    "display_export_data(pdir, 'Poles', ['   u', '   y', '   e '])\n",
    "\n",
    "up = pdir[0][1]\n",
    "print('||KS||inf >= {:.3}'.format(BoundKS(Gs, p, up)))\n"
   ]
  },
  {
   "cell_type": "code",
   "execution_count": null,
   "metadata": {},
   "outputs": [],
   "source": []
  }
 ],
 "metadata": {
  "kernelspec": {
   "display_name": "Python 3",
   "language": "python",
   "name": "python3"
  },
  "language_info": {
   "codemirror_mode": {
    "name": "ipython",
    "version": 3
   },
   "file_extension": ".py",
   "mimetype": "text/x-python",
   "name": "python",
   "nbconvert_exporter": "python",
   "pygments_lexer": "ipython3",
   "version": "3.7.4"
  }
 },
 "nbformat": 4,
 "nbformat_minor": 4
}
