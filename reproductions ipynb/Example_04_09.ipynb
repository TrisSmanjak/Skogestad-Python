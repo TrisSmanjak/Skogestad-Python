{
 "cells": [
  {
   "cell_type": "code",
   "execution_count": 1,
   "metadata": {},
   "outputs": [
    {
     "name": "stdout",
     "output_type": "stream",
     "text": [
      "Poles:  [-2. -1.]\n",
      "Zeros:  [-0.9999999999999999, -1.9990000000000003]\n"
     ]
    }
   ],
   "source": [
    "from __future__ import print_function\n",
    "\n",
    "from utils import tf, mimotf\n",
    "\n",
    "s = tf([1, 0], 1)\n",
    "G = 1/(1.25*(s + 1)*(s + 2)) * mimotf([[s - 1, s],\n",
    "                                       [-6, s - 2]])\n",
    "\n",
    "print('Poles: ', G.poles())\n",
    "# TODO: Incorrect result. G has no zeros\n",
    "print('Zeros: ', G.zeros())\n"
   ]
  },
  {
   "cell_type": "code",
   "execution_count": null,
   "metadata": {},
   "outputs": [],
   "source": []
  }
 ],
 "metadata": {
  "kernelspec": {
   "display_name": "Python 3",
   "language": "python",
   "name": "python3"
  },
  "language_info": {
   "codemirror_mode": {
    "name": "ipython",
    "version": 3
   },
   "file_extension": ".py",
   "mimetype": "text/x-python",
   "name": "python",
   "nbconvert_exporter": "python",
   "pygments_lexer": "ipython3",
   "version": "3.7.4"
  }
 },
 "nbformat": 4,
 "nbformat_minor": 4
}
