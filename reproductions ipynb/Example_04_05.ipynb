{
 "cells": [
  {
   "cell_type": "code",
   "execution_count": 1,
   "metadata": {},
   "outputs": [
    {
     "name": "stdout",
     "output_type": "stream",
     "text": [
      "Iput pole vector Matrix([[1/conjugate(t), -1/conjugate(t), 1/conjugate(t), -1/conjugate(t)]])\n",
      "No of uncontrollable states: 0\n",
      "\n",
      "Rank of controllability matrix = 4\n",
      "Controllability Matrix([[1/t, -1/t**2, t**(-3), -1/t**4], [0, t**(-2), -2/t**3, 3/t**4], [0, 0, t**(-3), -3/t**4], [0, 0, 0, t**(-4)]]) \n",
      "has full rank and is state controllable\n"
     ]
    }
   ],
   "source": [
    "import sympy\n",
    "import numpy as np\n",
    "\n",
    "t = sympy.Symbol('t')\n",
    "\n",
    "A = sympy.Matrix([[-1/t, 0, 0, 0],\n",
    "                  [1/t, -1/t, 0, 0],\n",
    "                  [0, 1/t, -1/t, 0],\n",
    "                  [0, 0, 1/t, -1/t]])\n",
    "\n",
    "B = sympy.Matrix([[1/t],\n",
    "                  [0],\n",
    "                  [0],\n",
    "                  [0]])\n",
    "\n",
    "Q = sympy.Matrix([[1, -1, 1, -1],\n",
    "                  [0, 0, 0, 0],\n",
    "                  [0, 0, 0, 0],\n",
    "                  [0, 0, 0, 0]])\n",
    "\n",
    "# Input pole vector matrix\n",
    "Up = B.H * Q\n",
    "# Confirm by inspection that pole vectors are non zero\n",
    "print('Iput pole vector', Up)\n",
    "# Consider linear combinations for repeated poles\n",
    "print('No of uncontrollable states:', Q.rank() - Up.rank())\n",
    "\n",
    "# Determine the rank of the controllability matrix\n",
    "c_plus = [A**n*B for n in range(A.shape[1])]\n",
    "control_matrix = np.hstack(c_plus)\n",
    "# cannot take rank of control_matrix, therefore construct\n",
    "# Sympy matrix\n",
    "C_matrix = sympy.Matrix(np.zeros_like(A))\n",
    "for r in range(0, A.shape[1]):\n",
    "    for c in range(A.shape[1]):\n",
    "        C_matrix[r,c] = control_matrix[r,c]\n",
    "\n",
    "print('\\nRank of controllability matrix =', C_matrix.rank())\n",
    "if C_matrix.rank() == C_matrix.shape[1] :\n",
    "    print('Controllability', C_matrix,\n",
    "          '\\nhas full rank and is state controllable')\n",
    "else:\n",
    "    print('Controllability', C_matrix,\n",
    "          '\\ndoes not have full rank and is not state controllable')\n"
   ]
  },
  {
   "cell_type": "code",
   "execution_count": null,
   "metadata": {},
   "outputs": [],
   "source": []
  }
 ],
 "metadata": {
  "kernelspec": {
   "display_name": "Python 3",
   "language": "python",
   "name": "python3"
  },
  "language_info": {
   "codemirror_mode": {
    "name": "ipython",
    "version": 3
   },
   "file_extension": ".py",
   "mimetype": "text/x-python",
   "name": "python",
   "nbconvert_exporter": "python",
   "pygments_lexer": "ipython3",
   "version": "3.7.4"
  }
 },
 "nbformat": 4,
 "nbformat_minor": 4
}
