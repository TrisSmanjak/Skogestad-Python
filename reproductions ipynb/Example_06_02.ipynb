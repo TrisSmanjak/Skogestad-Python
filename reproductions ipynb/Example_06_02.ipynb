{
 "cells": [
  {
   "cell_type": "code",
   "execution_count": 1,
   "metadata": {},
   "outputs": [
    {
     "name": "stdout",
     "output_type": "stream",
     "text": [
      "All Poles: [ -9.99999997 -10.00526014  -9.99373265   3.          -3.        ]\n",
      "All Zeros: [2.0000000000000004, 3.0000029588046737, -10.005260117602106, -9.993732635650577, -3.0000102055519675, -2.0]\n",
      "\n",
      "RHP poles only:  [3.0]\n",
      "RHP zeros only:  [2.0, 3.0]\n",
      "Poles | 3.000e+00\n",
      "\n",
      "u1 |-3.273e-01\n",
      "u2 |9.449e-01\n",
      "y1 |-1.000e+00\n",
      "y2 |2.474e-09\n",
      "e  | True\n",
      "\n",
      "Zeros | 2.000e+00\n",
      "\n",
      "u1 |-1.000e+00\n",
      "u2 |-0.000e+00\n",
      "y1 |-3.273e-01\n",
      "y2 |9.449e-01\n",
      "e  | True\n",
      "\n",
      "M_S,min = M_T,min = 1.89\n",
      "\n",
      "Peak example for deadtime:\n",
      "M_T,min = 0.01\n"
     ]
    }
   ],
   "source": [
    "from __future__ import print_function\n",
    "import numpy as np\n",
    "\n",
    "from utils import pole_zero_directions, BoundST, tf, mimotf, RHPonly\n",
    "from reporting import display_export_data\n",
    "\n",
    "s = tf([1, 0])\n",
    "\n",
    "p = 3\n",
    "z = 2\n",
    "d = 30. / 180. * np.pi\n",
    "g1 = mimotf([[1 / (s - p), 0],\n",
    "             [0, 1 / (s + 3)]])\n",
    "g2 = mimotf([[np.cos(d), -np.sin(d)],\n",
    "             [np.sin(d), np.cos(d)]])\n",
    "g3 = mimotf([[(s - z) / (0.1 * s + 1), 0],\n",
    "             [0, (s + 2) / (0.1 * s + 1)]])\n",
    "G = g1 * g2 * g3\n",
    "\n",
    "p = G.poles()\n",
    "z = G.zeros()\n",
    "print('All Poles: {0}'.format(p))\n",
    "print('All Zeros: {0}\\n'.format(z))\n",
    "\n",
    "RHPzeros = RHPonly(z)\n",
    "RHPpoles = RHPonly(p)\n",
    "print(\"RHP poles only: \", RHPpoles)\n",
    "print(\"RHP zeros only: \", RHPzeros)\n",
    "\n",
    "# selected p & z\n",
    "p = [3.]\n",
    "z = [2.]\n",
    "\n",
    "pdata = pole_zero_directions(G, p, 'p')\n",
    "zdata = pole_zero_directions(G, z, 'z')\n",
    "rowhead = ['u','y','e ']\n",
    "display_export_data(pdata, 'Poles', rowhead)\n",
    "display_export_data(zdata, 'Zeros', rowhead)\n",
    "\n",
    "zdata,_ = pole_zero_directions(G, z, 'z', 'y')\n",
    "print('M_S,min = M_T,min = {:.2f}'.format(BoundST(G, p, z)))\n",
    "\n",
    "# TODO fix BoundST with deadtime\n",
    "print('\\nPeak example for deadtime:')\n",
    "deadtime = np.matrix([[-1, 0],\n",
    "                      [-2., -3]])\n",
    "     \n",
    "print('M_T,min = {:.2f}'.format(BoundST(G, p, z, deadtime)))\n"
   ]
  },
  {
   "cell_type": "code",
   "execution_count": null,
   "metadata": {},
   "outputs": [],
   "source": []
  }
 ],
 "metadata": {
  "kernelspec": {
   "display_name": "Python 3",
   "language": "python",
   "name": "python3"
  },
  "language_info": {
   "codemirror_mode": {
    "name": "ipython",
    "version": 3
   },
   "file_extension": ".py",
   "mimetype": "text/x-python",
   "name": "python",
   "nbconvert_exporter": "python",
   "pygments_lexer": "ipython3",
   "version": "3.7.4"
  }
 },
 "nbformat": 4,
 "nbformat_minor": 4
}
