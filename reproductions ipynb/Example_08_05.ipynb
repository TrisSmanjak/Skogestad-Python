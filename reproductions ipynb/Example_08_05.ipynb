{
 "cells": [
  {
   "cell_type": "code",
   "execution_count": 2,
   "metadata": {},
   "outputs": [
    {
     "name": "stdout",
     "output_type": "stream",
     "text": [
      "Full perturbation delta matrix\n",
      "[[ 0.2 -0.1]\n",
      " [ 0.2 -0.1]]\n",
      "\n",
      "Diagonal perturbation delta matrix\n",
      "NA\n"
     ]
    }
   ],
   "source": [
    "from __future__ import print_function\n",
    "import numpy as np\n",
    "\n",
    "from robusttools import UnstructuredDelta\n",
    "\n",
    "\n",
    "M = np.matrix([[2., 2.],[-1., -1.]])\n",
    "\n",
    "print('Full perturbation delta matrix')\n",
    "print(UnstructuredDelta(M, 'Full'))\n",
    "print('\\nDiagonal perturbation delta matrix')\n",
    "print(UnstructuredDelta(M, 'Diagonal'))\n"
   ]
  },
  {
   "cell_type": "code",
   "execution_count": null,
   "metadata": {},
   "outputs": [],
   "source": []
  }
 ],
 "metadata": {
  "kernelspec": {
   "display_name": "Python 3",
   "language": "python",
   "name": "python3"
  },
  "language_info": {
   "codemirror_mode": {
    "name": "ipython",
    "version": 3
   },
   "file_extension": ".py",
   "mimetype": "text/x-python",
   "name": "python",
   "nbconvert_exporter": "python",
   "pygments_lexer": "ipython3",
   "version": "3.7.4"
  }
 },
 "nbformat": 4,
 "nbformat_minor": 4
}
