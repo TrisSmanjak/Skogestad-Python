{
  "cells": [
    {
      "cell_type": "code",
      "metadata": {},
      "source": [
        "import numpy as np\n",
        "import matplotlib.pyplot as plt\n",
        "%matplotlib inline\n",
        "\n",
        "w = np.logspace(-3, 3, 3000)\n",
        "s = 1j*w\n",
        "G = 3*(-2*s + 1)/((10*s + 1)*(5*s + 1))\n",
        "Kc = 1.14\n",
        "K = Kc*(12.7*s + 1)/(12.7 *s)\n",
        "L = G * K\n",
        "# L is a 1 x 1 matrix, and therefore the determinant is equal to the scalar\n",
        "Ldet = 1 + L # for SISO\n",
        "\n",
        "plt.figure('Figure 4.8')\n",
        "plt.title('Typical Nyquist plot of det(I + L(jw))')\n",
        "plt.plot(Ldet.real, Ldet.imag)\n",
        "plt.plot(Ldet.conj().real, Ldet.conj().imag, '--')\n",
        "plt.ylim(-3, 3.0)\n",
        "plt.xlim(-2, 2.0)\n",
        "plt.axhline(0, color='black', linestyle='--', linewidth=0.5)\n",
        "plt.axvline(0, color='black', linestyle='--', linewidth=0.5)\n",
        "plt.xlabel('Re')\n",
        "plt.ylabel('Im')\n"
      ],
      "outputs": [],
      "execution_count": null
    }
  ],
  "metadata": {
    "anaconda-cloud": {},
    "kernelspec": {
      "display_name": "Python 3",
      "language": "python",
      "name": "python3"
    },
    "language_info": {
      "codemirror_mode": {
        "name": "ipython",
        "version": 3
      },
      "file_extension": ".py",
      "mimetype": "text/x-python",
      "name": "python",
      "nbconvert_exporter": "python",
      "pygments_lexer": "ipython3",
      "version": "3.6.1"
    }
  },
  "nbformat": 4,
  "nbformat_minor": 1
}