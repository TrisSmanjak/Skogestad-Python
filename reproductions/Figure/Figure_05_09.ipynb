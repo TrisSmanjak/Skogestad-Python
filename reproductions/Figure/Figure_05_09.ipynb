{
  "cells": [
    {
      "cell_type": "code",
      "metadata": {},
      "source": [
        "# -*- coding: utf-8 -*-\n",
        "\"\"\"\n",
        "Created on Tue Mar 26 18:10:40 2013\n",
        "\n",
        "@author: Irshad\n",
        "\"\"\"\n",
        "\n",
        "import numpy\n",
        "import matplotlib.pyplot as plt\n",
        "%matplotlib inline\n",
        "\n",
        "w = numpy.logspace(-3, 2, 2000)\n",
        "s = w*1j\n",
        "G = (1 - s)/(s + 1)\n",
        "\n",
        "for kc in [0.1, 0.5, 0.9]:\n",
        "    k1 = -1*kc*s/((1 + 0.02*s)*(1 + 0.05*s))\n",
        "    L = G*k1\n",
        "    S = 1/(1 + L)\n",
        "    plt.loglog(w, abs(S))\n",
        "plt.show()\n"
      ],
      "outputs": [],
      "execution_count": null
    }
  ],
  "metadata": {
    "anaconda-cloud": {},
    "kernelspec": {
      "display_name": "Python 3",
      "language": "python",
      "name": "python3"
    },
    "language_info": {
      "codemirror_mode": {
        "name": "ipython",
        "version": 3
      },
      "file_extension": ".py",
      "mimetype": "text/x-python",
      "name": "python",
      "nbconvert_exporter": "python",
      "pygments_lexer": "ipython3",
      "version": "3.6.1"
    }
  },
  "nbformat": 4,
  "nbformat_minor": 1
}