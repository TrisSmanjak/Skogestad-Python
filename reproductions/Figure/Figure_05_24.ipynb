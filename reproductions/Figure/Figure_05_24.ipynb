{
  "cells": [
    {
      "cell_type": "code",
      "metadata": {},
      "source": [
        "\"This code plots figure 5.24 of Exercise 5.12\"\n",
        "\n",
        "import numpy as np\n",
        "import matplotlib.pyplot as plt\n",
        "%matplotlib inline\n",
        "\n",
        "w = np.logspace(-4, -1, 1000)\n",
        "s = w*1j\n",
        "\n",
        "for n in [1, 2, 3, 4]:\n",
        "    tau_h = 1000\n",
        "    h_n = 1/((tau_h/n)*s + 1)**n\n",
        "    plt.loglog(w*tau_h, abs(h_n))\n",
        "    plt.title('|h_n for different values of n|')\n",
        "    plt.xlabel('frequency [rad/s]')\n",
        "    plt.ylabel('Magnitude')\n",
        "    plt.legend(('n=1', 'n=2', 'n=3', 'n=4'), loc=6)\n",
        "\n",
        "plt.show()\n",
        "\n"
      ],
      "outputs": [],
      "execution_count": null
    }
  ],
  "metadata": {
    "anaconda-cloud": {},
    "kernelspec": {
      "display_name": "Python 3",
      "language": "python",
      "name": "python3"
    },
    "language_info": {
      "codemirror_mode": {
        "name": "ipython",
        "version": 3
      },
      "file_extension": ".py",
      "mimetype": "text/x-python",
      "name": "python",
      "nbconvert_exporter": "python",
      "pygments_lexer": "ipython3",
      "version": "3.6.1"
    }
  },
  "nbformat": 4,
  "nbformat_minor": 1
}