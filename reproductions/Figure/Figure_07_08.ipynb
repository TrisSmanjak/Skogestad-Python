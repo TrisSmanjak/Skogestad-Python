{
  "cells": [
    {
      "cell_type": "code",
      "metadata": {},
      "source": [
        "# -*- coding: utf-8 -*-\n",
        "\"\"\"\n",
        "Created on Mon Jun 03 23:16:52 2013\n",
        "\n",
        "@author: Irshad\n",
        "\"\"\"\n",
        "\n",
        "#Figure 7.8\n",
        "from numpy import exp, logspace, abs, ones\n",
        "import matplotlib.pyplot as plt\n",
        "%matplotlib inline\n",
        "\n",
        "# Time delay\n",
        "w = logspace(-2, 2, 1000)\n",
        "s = 1j * w\n",
        "thetap = 1\n",
        "l_delay = 1 - exp(-thetap * s)\n",
        "tau = 1\n",
        "l_nolag = 1 - (1/(1 + tau * s))\n",
        "\n",
        "\n",
        "def setup_bode(G, func_string, max_param,  w=None):\n",
        "    plt.figure()\n",
        "    plt.xlabel(r'Frequency [rad/s]', fontsize=14)\n",
        "    plt.ylabel(r'Magnitude', fontsize=15)\n",
        "    plt.loglog(w, abs(G))\n",
        "    plt.loglog(w, (ones(len(w))), '-.')\n",
        "    plt.vlines(1, 10**(-3), 1, color='m', linestyle='dashed')\n",
        "    plt.ylim(-3, 10)\n",
        "    plt.legend((func_string, '1', max_param), loc=3)\n",
        "\n",
        "func = [[l_delay, 'time delay', r'$1/\\theta_{max}$'],\n",
        "        [l_nolag, 'First order lag', r'$1/\\tau_{max}$']]\n",
        "\n",
        "for function, func_string, max_param in func:\n",
        "    setup_bode(function, func_string, max_param, w)\n",
        "\n",
        "plt.show()\n",
        "\n"
      ],
      "outputs": [],
      "execution_count": null
    }
  ],
  "metadata": {
    "anaconda-cloud": {},
    "kernelspec": {
      "display_name": "Python 3",
      "language": "python",
      "name": "python3"
    },
    "language_info": {
      "codemirror_mode": {
        "name": "ipython",
        "version": 3
      },
      "file_extension": ".py",
      "mimetype": "text/x-python",
      "name": "python",
      "nbconvert_exporter": "python",
      "pygments_lexer": "ipython3",
      "version": "3.6.1"
    }
  },
  "nbformat": 4,
  "nbformat_minor": 1
}