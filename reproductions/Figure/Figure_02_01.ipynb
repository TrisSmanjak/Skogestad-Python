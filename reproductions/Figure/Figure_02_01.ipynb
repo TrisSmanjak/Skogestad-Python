{
  "cells": [
    {
      "cell_type": "code",
      "metadata": {},
      "source": [
        "import numpy as np\n",
        "import matplotlib.pyplot as plt\n",
        "%matplotlib inline\n",
        "\n",
        "w = 0.2\n",
        "s = w*1j\n",
        "G = 5*np.exp(-2*s)/(10*s + 1)\n",
        "\n",
        "t = np.linspace(0, 100, 200)\n",
        "# Calculate System Gain and Phase Shift\n",
        "SG = np.abs(G)\n",
        "PS = np.angle(G)\n",
        "\n",
        "u = np.sin(w*t)\n",
        "y = SG*np.sin(w*t + PS)\n",
        "\n",
        "plt.figure('Figure 2.1')\n",
        "plt.title('Sinusoidal response for system G(s)')\n",
        "plt.plot(t, u)\n",
        "plt.plot(t, y)\n",
        "plt.xlabel('Time [s]')\n",
        "plt.ylabel('Input pertubation, Output response')\n",
        "plt.legend(['u(t)', 'y(t)'])\n",
        "plt.title(\"System response to a sinusodial input\")\n",
        "plt.show()\n"
      ],
      "outputs": [],
      "execution_count": null
    }
  ],
  "metadata": {
    "anaconda-cloud": {},
    "kernelspec": {
      "display_name": "Python 3",
      "language": "python",
      "name": "python3"
    },
    "language_info": {
      "codemirror_mode": {
        "name": "ipython",
        "version": 3
      },
      "file_extension": ".py",
      "mimetype": "text/x-python",
      "name": "python",
      "nbconvert_exporter": "python",
      "pygments_lexer": "ipython3",
      "version": "3.6.1"
    }
  },
  "nbformat": 4,
  "nbformat_minor": 1
}