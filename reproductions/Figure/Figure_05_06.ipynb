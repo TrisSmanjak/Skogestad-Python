{
  "cells": [
    {
      "cell_type": "code",
      "metadata": {},
      "source": [
        "import numpy as np\n",
        "import matplotlib.pyplot as plt\n",
        "%matplotlib inline\n",
        "\n",
        "\n",
        "# This module generates the graph in fig 5.6\n",
        "def S(s, theta):\n",
        "    S = 1 - np.exp(-theta*s)\n",
        "    return S\n",
        "\n",
        "\n",
        "w = np.logspace(-2, 2, 1000)\n",
        "theta = 0.5\n",
        "\n",
        "# Generate the Magnitude|S|\n",
        "plt.loglog(w, np.abs([S((1j*i), theta) for i in w]))\n",
        "\n",
        "# Generate w = 1/theta\n",
        "plt.vlines(1/theta, 1e-2, 1, 'k')\n",
        "\n",
        "# Generate magnitude = 1\n",
        "plt.hlines(1, 1e-2, 1e2, 'k')\n",
        "\n",
        "# Set plot properties\n",
        "plt.title('Figure 5.6')\n",
        "plt.text(1, 0.7e-1, r'$\\omega$=1/$\\theta$', fontsize=15)\n",
        "plt.xlim(1e-2, 1e2)\n",
        "plt.ylim(1e-2, 1e1)\n",
        "plt.show()\n"
      ],
      "outputs": [],
      "execution_count": null
    }
  ],
  "metadata": {
    "anaconda-cloud": {},
    "kernelspec": {
      "display_name": "Python 3",
      "language": "python",
      "name": "python3"
    },
    "language_info": {
      "codemirror_mode": {
        "name": "ipython",
        "version": 3
      },
      "file_extension": ".py",
      "mimetype": "text/x-python",
      "name": "python",
      "nbconvert_exporter": "python",
      "pygments_lexer": "ipython3",
      "version": "3.6.1"
    }
  },
  "nbformat": 4,
  "nbformat_minor": 1
}