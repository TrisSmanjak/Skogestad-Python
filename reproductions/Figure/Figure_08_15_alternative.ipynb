{
 "cells": [
  {
   "cell_type": "code",
   "execution_count": 157,
   "metadata": {},
   "outputs": [],
   "source": [
    "import numpy as np\n",
    "import matplotlib.pyplot as plt\n",
    "import doc_func as df\n",
    "import utils\n",
    "import utilsplot\n",
    "import sympy\n",
    "sympy.init_printing()"
   ]
  },
  {
   "cell_type": "markdown",
   "metadata": {},
   "source": [
    "## NS\n",
    "#### No poles in RHP of S, SG, Ks, TI"
   ]
  },
  {
   "cell_type": "code",
   "execution_count": 158,
   "metadata": {},
   "outputs": [],
   "source": [
    "s = sympy.symbols('s')\n",
    "\n",
    "G = 11/(75*s + 1)*sympy.Matrix([[87.8, -86.4], [108.2, -109.6]])\n",
    "K = 0.7/s*G.inv()"
   ]
  },
  {
   "cell_type": "code",
   "execution_count": 159,
   "metadata": {},
   "outputs": [],
   "source": [
    "Wis = (s + 0.2)/(0.5*s + 1)\n",
    "Wps = (s/2 + 0.05)/s"
   ]
  },
  {
   "cell_type": "code",
   "execution_count": 160,
   "metadata": {},
   "outputs": [],
   "source": [
    "I = sympy.Matrix([[1, 0], [0, 1]])\n",
    "\n",
    "l = 0.7/s\n",
    "ϵ = s/(s + 0.7)\n",
    "t = 1/(1.43*s + 1)\n",
    "\n",
    "L = l*I\n",
    "S = ϵ*I\n",
    "T = t*I"
   ]
  },
  {
   "cell_type": "code",
   "execution_count": 161,
   "metadata": {},
   "outputs": [
    {
     "data": {
      "text/latex": [
       "$\\displaystyle \\left( \\left[\\begin{matrix}\\frac{s}{s + 0.7} & 0\\\\0 & \\frac{s}{s + 0.7}\\end{matrix}\\right], \\  \\left[\\begin{matrix}\\frac{965.8 s}{\\left(s + 0.7\\right) \\left(75 s + 1\\right)} & - \\frac{950.4 s}{\\left(s + 0.7\\right) \\left(75 s + 1\\right)}\\\\\\frac{1190.2 s}{\\left(s + 0.7\\right) \\left(75 s + 1\\right)} & - \\frac{1205.6 s}{\\left(s + 0.7\\right) \\left(75 s + 1\\right)}\\end{matrix}\\right], \\  \\left[\\begin{matrix}\\frac{0.7 \\left(2.72329711105224 s + 0.0363106281473632\\right)}{s + 0.7} & \\frac{0.7 \\left(- 2.14683275907768 s - 0.0286244367877024\\right)}{s + 0.7}\\\\\\frac{0.7 \\left(2.68851046912274 s + 0.0358468062549699\\right)}{s + 0.7} & \\frac{0.7 \\left(- 2.18161940100718 s - 0.0290882586800957\\right)}{s + 0.7}\\end{matrix}\\right], \\  \\left[\\begin{matrix}\\frac{833.14 \\left(- 2.14683275907768 s - 0.0286244367877024\\right)}{\\left(s + 0.7\\right) \\left(75 s + 1\\right)} + \\frac{676.06 \\left(2.72329711105224 s + 0.0363106281473632\\right)}{\\left(s + 0.7\\right) \\left(75 s + 1\\right)} & - \\frac{843.92 \\left(- 2.14683275907768 s - 0.0286244367877024\\right)}{\\left(s + 0.7\\right) \\left(75 s + 1\\right)} - \\frac{665.28 \\left(2.72329711105224 s + 0.0363106281473632\\right)}{\\left(s + 0.7\\right) \\left(75 s + 1\\right)}\\\\\\frac{833.14 \\left(- 2.18161940100718 s - 0.0290882586800957\\right)}{\\left(s + 0.7\\right) \\left(75 s + 1\\right)} + \\frac{676.06 \\left(2.68851046912274 s + 0.0358468062549699\\right)}{\\left(s + 0.7\\right) \\left(75 s + 1\\right)} & - \\frac{843.92 \\left(- 2.18161940100718 s - 0.0290882586800957\\right)}{\\left(s + 0.7\\right) \\left(75 s + 1\\right)} - \\frac{665.28 \\left(2.68851046912274 s + 0.0358468062549699\\right)}{\\left(s + 0.7\\right) \\left(75 s + 1\\right)}\\end{matrix}\\right]\\right)$"
      ],
      "text/plain": [
       "⎛⎡   s            ⎤  ⎡      965.8⋅s              -950.4⋅s       ⎤  ⎡0.7⋅(2.723\n",
       "⎜⎢───────     0   ⎥  ⎢────────────────────  ────────────────────⎥  ⎢──────────\n",
       "⎜⎢s + 0.7         ⎥  ⎢(s + 0.7)⋅(75⋅s + 1)  (s + 0.7)⋅(75⋅s + 1)⎥  ⎢          \n",
       "⎜⎢                ⎥, ⎢                                          ⎥, ⎢          \n",
       "⎜⎢            s   ⎥  ⎢      1190.2⋅s             -1205.6⋅s      ⎥  ⎢0.7⋅(2.688\n",
       "⎜⎢   0     ───────⎥  ⎢────────────────────  ────────────────────⎥  ⎢──────────\n",
       "⎝⎣         s + 0.7⎦  ⎣(s + 0.7)⋅(75⋅s + 1)  (s + 0.7)⋅(75⋅s + 1)⎦  ⎣          \n",
       "\n",
       "29711105224⋅s + 0.0363106281473632)  0.7⋅(-2.14683275907768⋅s - 0.028624436787\n",
       "───────────────────────────────────  ─────────────────────────────────────────\n",
       "         s + 0.7                                        s + 0.7               \n",
       "                                                                              \n",
       "51046912274⋅s + 0.0358468062549699)  0.7⋅(-2.18161940100718⋅s - 0.029088258680\n",
       "───────────────────────────────────  ─────────────────────────────────────────\n",
       "         s + 0.7                                        s + 0.7               \n",
       "\n",
       "7024)⎤  ⎡833.14⋅(-2.14683275907768⋅s - 0.0286244367877024)   676.06⋅(2.7232971\n",
       "─────⎥  ⎢───────────────────────────────────────────────── + ─────────────────\n",
       "     ⎥  ⎢               (s + 0.7)⋅(75⋅s + 1)                               (s \n",
       "     ⎥, ⎢                                                                     \n",
       "0957)⎥  ⎢833.14⋅(-2.18161940100718⋅s - 0.0290882586800957)   676.06⋅(2.6885104\n",
       "─────⎥  ⎢───────────────────────────────────────────────── + ─────────────────\n",
       "     ⎦  ⎣               (s + 0.7)⋅(75⋅s + 1)                               (s \n",
       "\n",
       "1105224⋅s + 0.0363106281473632)    843.92⋅(-2.14683275907768⋅s - 0.02862443678\n",
       "───────────────────────────────  - ───────────────────────────────────────────\n",
       "+ 0.7)⋅(75⋅s + 1)                                 (s + 0.7)⋅(75⋅s + 1)        \n",
       "                                                                              \n",
       "6912274⋅s + 0.0358468062549699)    843.92⋅(-2.18161940100718⋅s - 0.02908825868\n",
       "───────────────────────────────  - ───────────────────────────────────────────\n",
       "+ 0.7)⋅(75⋅s + 1)                                 (s + 0.7)⋅(75⋅s + 1)        \n",
       "\n",
       "77024)   665.28⋅(2.72329711105224⋅s + 0.0363106281473632)⎤⎞\n",
       "────── - ────────────────────────────────────────────────⎥⎟\n",
       "                       (s + 0.7)⋅(75⋅s + 1)              ⎥⎟\n",
       "                                                         ⎥⎟\n",
       "00957)   665.28⋅(2.68851046912274⋅s + 0.0358468062549699)⎥⎟\n",
       "────── - ────────────────────────────────────────────────⎥⎟\n",
       "                       (s + 0.7)⋅(75⋅s + 1)              ⎦⎠"
      ]
     },
     "execution_count": 161,
     "metadata": {},
     "output_type": "execute_result"
    }
   ],
   "source": [
    "S, S*G, (K*S), (K*S*G)"
   ]
  },
  {
   "cell_type": "markdown",
   "metadata": {},
   "source": [
    "## NP, RS"
   ]
  },
  {
   "cell_type": "code",
   "execution_count": 162,
   "metadata": {},
   "outputs": [
    {
     "data": {
      "image/png": "[encoded data removed]",
      "text/latex": [
       "$\\displaystyle \\frac{\\frac{s}{2} + 0.05}{s + 0.7}$"
      ],
      "text/plain": [
       "s       \n",
       "─ + 0.05\n",
       "2       \n",
       "────────\n",
       "s + 0.7 "
      ]
     },
     "execution_count": 162,
     "metadata": {},
     "output_type": "execute_result"
    }
   ],
   "source": [
    "(Wps*S[0])"
   ]
  },
  {
   "cell_type": "code",
   "execution_count": 163,
   "metadata": {},
   "outputs": [],
   "source": [
    "w = np.logspace(-3, 3, 1000)\n",
    "s = 1j*w"
   ]
  },
  {
   "cell_type": "code",
   "execution_count": 164,
   "metadata": {},
   "outputs": [],
   "source": [
    "def Wi(s):\n",
    "    return (s + 0.2)/(0.5*s + 1)\n",
    "def Wp(s):\n",
    "    return (s/2 + 0.05)/s"
   ]
  },
  {
   "cell_type": "code",
   "execution_count": 165,
   "metadata": {},
   "outputs": [],
   "source": [
    "def ϵ(s):\n",
    "    return s/(s + 0.7)\n",
    "def t(s):\n",
    "    return 1/(1.43*s + 1)"
   ]
  },
  {
   "cell_type": "code",
   "execution_count": 167,
   "metadata": {},
   "outputs": [],
   "source": [
    "Wpϵ = [abs(Wp(si)*ϵ(si)) for si in s]\n",
    "Wit = [abs(Wi(si)*t(si)) for si in s]"
   ]
  },
  {
   "cell_type": "code",
   "execution_count": 168,
   "metadata": {},
   "outputs": [
    {
     "data": {
      "image/png": "[encoded data removed]",
      "text/plain": [
       "<Figure size 432x288 with 1 Axes>"
      ]
     },
     "metadata": {
      "needs_background": "light"
     },
     "output_type": "display_data"
    }
   ],
   "source": [
    "plt.semilogx(w, Wpϵ, c='blue', label='NP')\n",
    "plt.semilogx(w, Wit, c='red', label='RS')\n",
    "plt.legend()\n",
    "plt.xlabel('ω')\n",
    "plt.ylabel('μ')\n",
    "plt.axhline(0.07, c='b', ls=':')\n",
    "plt.axhline(0.5, c='b', ls=':')\n",
    "\n",
    "plt.axhline(0.53, c='red', ls=':')\n",
    "plt.axhline(0.2, c='red', ls=':')\n",
    "plt.show()"
   ]
  },
  {
   "cell_type": "markdown",
   "metadata": {},
   "source": [
    "#### NP is easily satified: \n",
    " - Small at low freq (0.05/0.7 = 0.07 at w = 0) and approches 1/2 = 0.5 at higher freq\n",
    " \n",
    "#### RS is easily satified: \n",
    " - Peak is ||M||$_{\\infty}$ = 0.53 -> we can increase uncertainty by a factor of 1/0.53 = 1.89 before the worst case uncertainty yields instability -> can tolerate gain of 38% and time delay of 1.7min before instability"
   ]
  },
  {
   "cell_type": "code",
   "execution_count": 151,
   "metadata": {},
   "outputs": [
    {
     "data": {
      "image/png": "[encoded data removed]",
      "text/latex": [
       "$\\displaystyle \\left( 0.378, \\  1.6650441064025905\\right)$"
      ],
      "text/plain": [
       "(0.378, 1.6650441064025905)"
      ]
     },
     "execution_count": 151,
     "metadata": {},
     "output_type": "execute_result"
    }
   ],
   "source": [
    "0.2*1.89, np.pi*0.53"
   ]
  },
  {
   "cell_type": "markdown",
   "metadata": {},
   "source": [
    "## RP"
   ]
  },
  {
   "cell_type": "code",
   "execution_count": 169,
   "metadata": {},
   "outputs": [],
   "source": [
    "def G(s):\n",
    "    return 11/(75*s + 1)*np.matrix([[87.8, -86.4], [108.2, -109.6]])"
   ]
  },
  {
   "cell_type": "code",
   "execution_count": 170,
   "metadata": {},
   "outputs": [],
   "source": [
    "def γ(G):\n",
    "    sigmas = utils.SVD(G)[1]\n",
    "    return max(sigmas)/min(sigmas)"
   ]
  },
  {
   "cell_type": "code",
   "execution_count": 174,
   "metadata": {},
   "outputs": [],
   "source": [
    "def μΔ(si):\n",
    "    return np.sqrt(abs(Wp(si)*ϵ(si))**2 + abs(Wi(si)*t(si))**2 + abs(Wp(si)*ϵ(si))*abs(Wi(si)*t(si))*(γ(G(si)) + 1/γ(G(si))))"
   ]
  },
  {
   "cell_type": "code",
   "execution_count": 175,
   "metadata": {},
   "outputs": [
    {
     "data": {
      "image/png": "[encoded data removed]",
      "text/latex": [
       "$\\displaystyle 5.562632270767919$"
      ],
      "text/plain": [
       "5.562632270767919"
      ]
     },
     "execution_count": 175,
     "metadata": {},
     "output_type": "execute_result"
    }
   ],
   "source": [
    "RPs = [μΔ(si) for si in s]\n",
    "μΔ(1j)"
   ]
  },
  {
   "cell_type": "code",
   "execution_count": 178,
   "metadata": {},
   "outputs": [
    {
     "data": {
      "image/png": "[encoded data removed]",
      "text/plain": [
       "<Figure size 432x288 with 1 Axes>"
      ]
     },
     "metadata": {
      "needs_background": "light"
     },
     "output_type": "display_data"
    }
   ],
   "source": [
    "plt.semilogx(w, RPs, c='green', label='RP')\n",
    "plt.legend()\n",
    "plt.xlabel('ω')\n",
    "plt.ylabel('μ')\n",
    "\n",
    "plt.show()"
   ]
  },
  {
   "cell_type": "code",
   "execution_count": null,
   "metadata": {},
   "outputs": [],
   "source": []
  }
 ],
 "metadata": {
  "kernelspec": {
   "display_name": "Python 3",
   "language": "python",
   "name": "python3"
  },
  "language_info": {
   "codemirror_mode": {
    "name": "ipython",
    "version": 3
   },
   "file_extension": ".py",
   "mimetype": "text/x-python",
   "name": "python",
   "nbconvert_exporter": "python",
   "pygments_lexer": "ipython3",
   "version": "3.7.4"
  }
 },
 "nbformat": 4,
 "nbformat_minor": 4
}
