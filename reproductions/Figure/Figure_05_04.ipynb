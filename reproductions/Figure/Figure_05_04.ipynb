{
  "cells": [
    {
      "cell_type": "code",
      "metadata": {},
      "source": [
        "import numpy as np\n",
        "import matplotlib.pyplot as plt\n",
        "%matplotlib inline\n",
        "\n",
        "w = np.logspace(-2, 1, 1000)\n",
        "s = w*1j\n",
        "\n",
        "plt.figure('Figure 5.4')\n",
        "Ks = [0.1, 0.5, 1.0, 2.0]\n",
        "for k in Ks:\n",
        "    L = k/s * (2 - s)/(2 + s)\n",
        "    T = L/(1+L)\n",
        "    S = 1 - T\n",
        "    plt.loglog(w, abs(S))\n",
        "plt.legend([\"k = %1.1f\" % K for K in Ks], loc=2)\n",
        "plt.xlabel('Frequency')        \n",
        "plt.ylabel('Magnitude $|S|$')\n",
        "plt.show()\n"
      ],
      "outputs": [],
      "execution_count": null
    }
  ],
  "metadata": {
    "anaconda-cloud": {},
    "kernelspec": {
      "display_name": "Python 3",
      "language": "python",
      "name": "python3"
    },
    "language_info": {
      "codemirror_mode": {
        "name": "ipython",
        "version": 3
      },
      "file_extension": ".py",
      "mimetype": "text/x-python",
      "name": "python",
      "nbconvert_exporter": "python",
      "pygments_lexer": "ipython3",
      "version": "3.6.1"
    }
  },
  "nbformat": 4,
  "nbformat_minor": 1
}