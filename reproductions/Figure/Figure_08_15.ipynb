{
 "cells": [
  {
   "cell_type": "code",
   "execution_count": 20,
   "metadata": {},
   "outputs": [],
   "source": [
    "import numpy as np\n",
    "import matplotlib.pyplot as plt\n",
    "import doc_func as df\n",
    "import utils\n",
    "import utilsplot\n",
    "import sympy\n",
    "sympy.init_printing()"
   ]
  },
  {
   "cell_type": "markdown",
   "metadata": {},
   "source": [
    "## NS"
   ]
  },
  {
   "cell_type": "code",
   "execution_count": 79,
   "metadata": {},
   "outputs": [],
   "source": [
    "s = sympy.symbols('s')\n",
    "\n",
    "G = 11/(75*s + 1)*sympy.Matrix([[87.8, -86.4], [108.2, -109.6]])\n",
    "K = 0.7/s*G.inv()"
   ]
  },
  {
   "cell_type": "code",
   "execution_count": 80,
   "metadata": {},
   "outputs": [],
   "source": [
    "Wis = (s + 0.2)/(0.5*s + 1)\n",
    "Wps = (s/2 + 0.05)/s"
   ]
  },
  {
   "cell_type": "code",
   "execution_count": 81,
   "metadata": {},
   "outputs": [],
   "source": [
    "I = sympy.Matrix([[1, 0], [0, 1]])\n",
    "\n",
    "l = 0.7/s\n",
    "ϵ = s/(s + 0.7)\n",
    "t = 1/(1.43*s + 1)\n",
    "\n",
    "\n",
    "L = l*I\n",
    "S = ϵ*I\n",
    "T = t*I"
   ]
  },
  {
   "cell_type": "code",
   "execution_count": 82,
   "metadata": {},
   "outputs": [
    {
     "data": {
      "text/latex": [
       "$\\displaystyle \\left( \\left[\\begin{matrix}\\frac{s}{s + 0.7} & 0\\\\0 & \\frac{s}{s + 0.7}\\end{matrix}\\right], \\  \\left[\\begin{matrix}\\frac{965.8 s}{\\left(s + 0.7\\right) \\left(75 s + 1\\right)} & - \\frac{950.4 s}{\\left(s + 0.7\\right) \\left(75 s + 1\\right)}\\\\\\frac{1190.2 s}{\\left(s + 0.7\\right) \\left(75 s + 1\\right)} & - \\frac{1205.6 s}{\\left(s + 0.7\\right) \\left(75 s + 1\\right)}\\end{matrix}\\right], \\  \\left[\\begin{matrix}\\frac{0.7 \\left(2.72329711105224 s + 0.0363106281473632\\right)}{s + 0.7} & \\frac{0.7 \\left(- 2.14683275907768 s - 0.0286244367877024\\right)}{s + 0.7}\\\\\\frac{0.7 \\left(2.68851046912274 s + 0.0358468062549699\\right)}{s + 0.7} & \\frac{0.7 \\left(- 2.18161940100718 s - 0.0290882586800957\\right)}{s + 0.7}\\end{matrix}\\right], \\  \\left[\\begin{matrix}\\frac{833.14 \\left(- 2.14683275907768 s - 0.0286244367877024\\right)}{\\left(s + 0.7\\right) \\left(75 s + 1\\right)} + \\frac{676.06 \\left(2.72329711105224 s + 0.0363106281473632\\right)}{\\left(s + 0.7\\right) \\left(75 s + 1\\right)} & - \\frac{843.92 \\left(- 2.14683275907768 s - 0.0286244367877024\\right)}{\\left(s + 0.7\\right) \\left(75 s + 1\\right)} - \\frac{665.28 \\left(2.72329711105224 s + 0.0363106281473632\\right)}{\\left(s + 0.7\\right) \\left(75 s + 1\\right)}\\\\\\frac{833.14 \\left(- 2.18161940100718 s - 0.0290882586800957\\right)}{\\left(s + 0.7\\right) \\left(75 s + 1\\right)} + \\frac{676.06 \\left(2.68851046912274 s + 0.0358468062549699\\right)}{\\left(s + 0.7\\right) \\left(75 s + 1\\right)} & - \\frac{843.92 \\left(- 2.18161940100718 s - 0.0290882586800957\\right)}{\\left(s + 0.7\\right) \\left(75 s + 1\\right)} - \\frac{665.28 \\left(2.68851046912274 s + 0.0358468062549699\\right)}{\\left(s + 0.7\\right) \\left(75 s + 1\\right)}\\end{matrix}\\right]\\right)$"
      ],
      "text/plain": [
       "⎛⎡   s            ⎤  ⎡      965.8⋅s              -950.4⋅s       ⎤  ⎡0.7⋅(2.723\n",
       "⎜⎢───────     0   ⎥  ⎢────────────────────  ────────────────────⎥  ⎢──────────\n",
       "⎜⎢s + 0.7         ⎥  ⎢(s + 0.7)⋅(75⋅s + 1)  (s + 0.7)⋅(75⋅s + 1)⎥  ⎢          \n",
       "⎜⎢                ⎥, ⎢                                          ⎥, ⎢          \n",
       "⎜⎢            s   ⎥  ⎢      1190.2⋅s             -1205.6⋅s      ⎥  ⎢0.7⋅(2.688\n",
       "⎜⎢   0     ───────⎥  ⎢────────────────────  ────────────────────⎥  ⎢──────────\n",
       "⎝⎣         s + 0.7⎦  ⎣(s + 0.7)⋅(75⋅s + 1)  (s + 0.7)⋅(75⋅s + 1)⎦  ⎣          \n",
       "\n",
       "29711105224⋅s + 0.0363106281473632)  0.7⋅(-2.14683275907768⋅s - 0.028624436787\n",
       "───────────────────────────────────  ─────────────────────────────────────────\n",
       "         s + 0.7                                        s + 0.7               \n",
       "                                                                              \n",
       "51046912274⋅s + 0.0358468062549699)  0.7⋅(-2.18161940100718⋅s - 0.029088258680\n",
       "───────────────────────────────────  ─────────────────────────────────────────\n",
       "         s + 0.7                                        s + 0.7               \n",
       "\n",
       "7024)⎤  ⎡833.14⋅(-2.14683275907768⋅s - 0.0286244367877024)   676.06⋅(2.7232971\n",
       "─────⎥  ⎢───────────────────────────────────────────────── + ─────────────────\n",
       "     ⎥  ⎢               (s + 0.7)⋅(75⋅s + 1)                               (s \n",
       "     ⎥, ⎢                                                                     \n",
       "0957)⎥  ⎢833.14⋅(-2.18161940100718⋅s - 0.0290882586800957)   676.06⋅(2.6885104\n",
       "─────⎥  ⎢───────────────────────────────────────────────── + ─────────────────\n",
       "     ⎦  ⎣               (s + 0.7)⋅(75⋅s + 1)                               (s \n",
       "\n",
       "1105224⋅s + 0.0363106281473632)    843.92⋅(-2.14683275907768⋅s - 0.02862443678\n",
       "───────────────────────────────  - ───────────────────────────────────────────\n",
       "+ 0.7)⋅(75⋅s + 1)                                 (s + 0.7)⋅(75⋅s + 1)        \n",
       "                                                                              \n",
       "6912274⋅s + 0.0358468062549699)    843.92⋅(-2.18161940100718⋅s - 0.02908825868\n",
       "───────────────────────────────  - ───────────────────────────────────────────\n",
       "+ 0.7)⋅(75⋅s + 1)                                 (s + 0.7)⋅(75⋅s + 1)        \n",
       "\n",
       "77024)   665.28⋅(2.72329711105224⋅s + 0.0363106281473632)⎤⎞\n",
       "────── - ────────────────────────────────────────────────⎥⎟\n",
       "                       (s + 0.7)⋅(75⋅s + 1)              ⎥⎟\n",
       "                                                         ⎥⎟\n",
       "00957)   665.28⋅(2.68851046912274⋅s + 0.0358468062549699)⎥⎟\n",
       "────── - ────────────────────────────────────────────────⎥⎟\n",
       "                       (s + 0.7)⋅(75⋅s + 1)              ⎦⎠"
      ]
     },
     "execution_count": 82,
     "metadata": {},
     "output_type": "execute_result"
    }
   ],
   "source": [
    "S, S*G, K*S, K*S*G"
   ]
  },
  {
   "cell_type": "markdown",
   "metadata": {},
   "source": [
    "## NP, RS, RP"
   ]
  },
  {
   "cell_type": "code",
   "execution_count": 87,
   "metadata": {},
   "outputs": [
    {
     "data": {
      "image/png": "iVBORw0KGgoAAAANSUhEUgAAAEgAAAAgCAYAAACxSj5wAAAABHNCSVQICAgIfAhkiAAAA6tJREFUaIHt2WuoZlMYB/DfOcalpMQxIc1IYRSD0IjIbTJpcqYkH8wwhySXJOUadXzxgTFumcjEyAcJMTQzGTNFORy3UiZSM7mUy3E0H1wyaXR8ePZmnz17v+9+995x8p5/rc67n72etZ/9389az1r/MzA6OmoW5Rjssf9aPJT8vhMf4mdM4nUc315o03A9vsQufIyzWvAZxVSu/ZAfpBeCBrEU65Prc7AGZ+A87MYWHFRhrHVJgFVwGR7BfTgZY9iEeS34fIHDMu2E/EBZggZwW+K0Cz/ipcz9Rdgb7yTXF+IZbMOnWIFDcGaHwOvgFkHoU/gcN+F7XNeCz26RNWmbzA+UJehWjIjUPBYX483M/WFsSAYtwgHJeDs7BN4r9sEp2JyzbxaZ29TnKHwrpuLzODI/WJagJdiIrfga43gyc38Yr5YEBQ/jk8SvLQxhL0zk7BM4tKHP+yLrl+AazMV7cktElqBXcLNYR25IHpTiGMHuGyVBPYCzcSn+LLh/F37NtMsLbJ0W3qnc9UCBrVefTXhZLA9bxIwZxMqsU5agxwQRGwWjO3Bccm9YZNZvBYE8iCtwPraXBPsETsq01wpsHxX4/SQIz2fLXHtmSBMf4t0+w9FZY76K7cBqnCoYX5jYy6bXo1iOc5PBy7BTkJe2Xwpsvxf4/SFK9OKcfTHeLXlWHR/YDwvEYv435iR/bxfsfiAW4SuTB70lKtMiXJIbcI0gZ5l42fSLpVOmLazGc0lsY7gWh4sMTHFj0hb04LNK7N2+Edl1D/bHs9mHpwTtizswX6TauJgyE7hKbAjz6ZmWzK05+72q73Gq4AUcjLvFXmUbLhKFJMWQqLy9+BwhKteQKO/jOD3Xx0CFo8Z68RXur/xK/yNU2UmPCab7EnO6d+nPzEnR62G17zBLUBekU6zbrrRvkRI08J9GMYMxk6dYryLZV/YUwKbweJMg/m2C1qm2iawjkp1muviVHjVerBdqoC5B3cS1pqgjkk2aLn4tFWfLt5sEUmUfVISsuLZdfLETmwSSQSp4rcrZO4lkRWMsF2eyRgWoLkFZcY1/BLY20EnwuqDiGMtwoMjCRqg7xTqJa1k0EcrqiGQprhZr1ncV+5eiLkGdxLUs6ghldQWvFPNFpq2t0LcrmlSxMnEtizpCWV3BK8WIKBobqrxEN9RZgzqJa22hjkhGfPARIXqV/felJ9QhqJO41hbqiGTE1JqHp9sKpIpg1teYyUeNGYFZgrpglqAu+AsjaCF17AgsaAAAAABJRU5ErkJggg==\n",
      "text/latex": [
       "$\\displaystyle \\frac{\\frac{s}{2} + 0.05}{s + 0.7}$"
      ],
      "text/plain": [
       "s       \n",
       "─ + 0.05\n",
       "2       \n",
       "────────\n",
       "s + 0.7 "
      ]
     },
     "execution_count": 87,
     "metadata": {},
     "output_type": "execute_result"
    }
   ],
   "source": [
    "(Wps*S[0])"
   ]
  },
  {
   "cell_type": "code",
   "execution_count": 88,
   "metadata": {},
   "outputs": [],
   "source": [
    "w = np.logspace(-3, 2, 1000)\n",
    "s = 1j*w"
   ]
  },
  {
   "cell_type": "code",
   "execution_count": 89,
   "metadata": {},
   "outputs": [],
   "source": [
    "Wi = (s + 0.2)/(0.5*s + 1)\n",
    "Wp = (s/2 + 0.05)/s"
   ]
  },
  {
   "cell_type": "code",
   "execution_count": 90,
   "metadata": {},
   "outputs": [],
   "source": [
    "I = utils.mimotf([[1, 0], [0, 1]])\n",
    "\n",
    "l = 0.7/s\n",
    "ϵ = s/(s + 0.7)\n",
    "t = 1/(1.43*s + 1)\n",
    "\n",
    "\n",
    "L = l*I\n",
    "S = ϵ*I\n",
    "T = t*I"
   ]
  },
  {
   "cell_type": "code",
   "execution_count": 93,
   "metadata": {},
   "outputs": [
    {
     "data": {
      "image/png": "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\n",
      "text/plain": [
       "<Figure size 432x288 with 1 Axes>"
      ]
     },
     "metadata": {
      "needs_background": "light"
     },
     "output_type": "display_data"
    }
   ],
   "source": [
    "plt.semilogx(w, abs(Wp*ϵ), label='NP')\n",
    "plt.semilogx(w, abs(Wi*t), label='RS')\n",
    "plt.legend()\n",
    "plt.xlabel('ω')\n",
    "plt.ylabel('μ')\n",
    "plt.show()"
   ]
  },
  {
   "cell_type": "markdown",
   "metadata": {},
   "source": [
    "##### NP is easily satified: small at low freq (0.05/0.7 = 0.07 at w = 0) and approches 1/2 = 0.5 at higher freq\n",
    "##### RS is easily satified: peak is ||M||$_{\\infty}$ = 0.53 -> we can increase uncertainty by a factor of 1/0.53 = 1.89 before the worst case uncertainty yields instability -> can tolerate gain of 38% and time delay of 1.7min before instability"
   ]
  },
  {
   "cell_type": "code",
   "execution_count": null,
   "metadata": {},
   "outputs": [],
   "source": []
  }
 ],
 "metadata": {
  "kernelspec": {
   "display_name": "Python 3",
   "language": "python",
   "name": "python3"
  },
  "language_info": {
   "codemirror_mode": {
    "name": "ipython",
    "version": 3
   },
   "file_extension": ".py",
   "mimetype": "text/x-python",
   "name": "python",
   "nbconvert_exporter": "python",
   "pygments_lexer": "ipython3",
<<<<<<< HEAD
   "version": "3.7.6"
=======
   "version": "3.7.4"
>>>>>>> upstream/master
  }
 },
 "nbformat": 4,
 "nbformat_minor": 4
}
