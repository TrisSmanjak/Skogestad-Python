{
  "cells": [
    {
      "cell_type": "code",
      "metadata": {},
      "source": [
        "from __future__ import print_function\n",
        "import numpy as np\n",
        "\n",
        "\n",
        "# Define functions\n",
        "G_3_29 = np.array([[5, 4], [3, 2]])\n",
        "G_3_30 = np.array([[0, 100], [0, 0]])\n",
        "\n",
        "def norms(G, Matrix_input):\n",
        "    \"\"\"Function to calculate norms\"\"\"\n",
        "    spectrad = max(np.linalg.eigvals(G))\n",
        "    Frob_norm = np.linalg.norm(G, 'fro')\n",
        "    B = np.cumsum(abs(G))\n",
        "    Sum_norm = B[G.size-1]\n",
        "    Columnsum = np.max(np.sum(abs(G),axis=0))\n",
        "    Rowsum = np.max(np.sum(abs(G),axis=1))\n",
        "    [U, S, V] = np.linalg.svd(G)\n",
        "    Max_singularval = max(S)\n",
        "\n",
        "    print(Matrix_input)\n",
        "    print('Spectral radius =', np.round(spectrad,2))\n",
        "    print('Frobenius norm =', np.round(Frob_norm,2))\n",
        "    print('Sum norm =', np.round(Sum_norm,2))\n",
        "    print('Maximum column sum =', np.round(Columnsum,2))\n",
        "    print('Maximum row sum =', np.round(Rowsum,2))\n",
        "    print('Maximum singular value =', np.round(Max_singularval,2))\n",
        "\n",
        "norms(G_3_29, \"Matrix 3.29\")\n",
        "print('')\n",
        "norms(G_3_30, \"Matrix 3.30\")\n",
        "\n",
        "\n",
        "\n",
        "\n"
      ],
      "outputs": [],
      "execution_count": null
    }
  ],
  "metadata": {
    "anaconda-cloud": {},
    "kernelspec": {
      "display_name": "Python 3",
      "language": "python",
      "name": "python3"
    },
    "language_info": {
      "codemirror_mode": {
        "name": "ipython",
        "version": 3
      },
      "file_extension": ".py",
      "mimetype": "text/x-python",
      "name": "python",
      "nbconvert_exporter": "python",
      "pygments_lexer": "ipython3",
      "version": "3.6.1"
    }
  },
  "nbformat": 4,
  "nbformat_minor": 1
}