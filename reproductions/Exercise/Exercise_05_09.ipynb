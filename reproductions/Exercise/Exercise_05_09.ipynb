{
  "cells": [
    {
      "cell_type": "markdown",
      "metadata": {},
      "source": [
        "Created on Jun 6, 2013\n",
        "\n",
        "@author: FENNERK\n",
        "'''\n",
        "\n",
        "from __future__ import print_function\n",
        "import numpy as np\n",
        "import matplotlib.pyplot as plt\n",
        "%matplotlib inline\n",
        "\n",
        "\n",
        "def omega_p(s, k, M):\n",
        "    return ((1000*s/k+1/M)*(s/(M*k)+1))/((10*s/k+1)*(100*s/k+1))\n",
        "\n",
        "#plotting M = 2 and w_B = 1\n",
        "ws = np.logspace(-4, 4, 1000)\n",
        "ks = [0.1, 0.5, 1.0, 10.0, 100.0, 1000.0, 2000.0, 10000.0]\n",
        "\n",
        "omegas = []\n",
        "\n",
        "for w in ws:\n",
        "    s = 1j*w\n",
        "    omegas.append(1/np.abs(omega_p(s, 1.0, 2.0)))\n",
        "\n",
        "plt.loglog(ws, omegas)\n",
        "plt.xlabel(\"Freq\")\n",
        "plt.ylabel(\"$1/W_p$\")\n",
        "plt.show()\n",
        "\n",
        "\n",
        "for k in ks:\n",
        "    print(\"For k = \", k, \", Wp(z) = \", omega_p(1.0, k, 2.0))\n",
        " "
      ]
    }
  ],
  "metadata": {
    "anaconda-cloud": {},
    "kernelspec": {
      "display_name": "Python 3",
      "language": "python",
      "name": "python3"
    },
    "language_info": {
      "codemirror_mode": {
        "name": "ipython",
        "version": 3
      },
      "file_extension": ".py",
      "mimetype": "text/x-python",
      "name": "python",
      "nbconvert_exporter": "python",
      "pygments_lexer": "ipython3",
      "version": "3.6.1"
    }
  },
  "nbformat": 4,
  "nbformat_minor": 1
}