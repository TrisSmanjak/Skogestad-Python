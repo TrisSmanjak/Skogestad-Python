{
  "cells": [
    {
      "cell_type": "markdown",
      "metadata": {},
      "source": [
        "Created on 24 Mar 2013\n",
        "\n",
        "@author: St Elmo Wilken\n",
        "'''\n",
        "\n",
        "import control as cn\n",
        "import matplotlib.pyplot as plt\n",
        "%matplotlib inline\n",
        "import numpy as np\n",
        "\n",
        "import siso_controllability as scont\n",
        "\n",
        "# Scaling: x* refers to the unscaled perturbation variable\n",
        "# q = q*/1\n",
        "# T_0 = T_0*/10\n",
        "# T = T*/10\n",
        "\n",
        "# this is the only tf which changes due to scaling => equates to *0.1\n",
        "G = cn.tf([0.8], [60, 1])*cn.tf([1], [12, 1])\n",
        "Gd = cn.tf([20*0.6, 0.6], [60, 1])*cn.tf([1], [12, 1])\n",
        "# remember the dead time in measurement which is 3 seconds\n",
        "freqs = np.arange(0.001, 1, 0.001)\n",
        "plt.figure(1)\n",
        "scont.rule_three_four(G, Gd, R=2, perfect=True, freq=freqs)\n",
        "\n",
        "plt.show()\n",
        "\n",
        "# Performance:\n",
        "# The plant will perform well to input (R) and disturbance tracking as it\n",
        "# is self regulating i.e. |Gd| < 1 for all frequencies.\n",
        "#\n",
        "# Controllability:\n",
        "# It is self regulating so... this is awkward..."
      ]
    }
  ],
  "metadata": {
    "anaconda-cloud": {},
    "kernelspec": {
      "display_name": "Python 3",
      "language": "python",
      "name": "python3"
    },
    "language_info": {
      "codemirror_mode": {
        "name": "ipython",
        "version": 3
      },
      "file_extension": ".py",
      "mimetype": "text/x-python",
      "name": "python",
      "nbconvert_exporter": "python",
      "pygments_lexer": "ipython3",
      "version": "3.6.1"
    }
  },
  "nbformat": 4,
  "nbformat_minor": 1
}