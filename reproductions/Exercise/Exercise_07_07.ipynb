{
  "cells": [
    {
      "cell_type": "code",
      "metadata": {},
      "source": [
        "import matplotlib.pyplot as plt\n",
        "%matplotlib inline\n",
        "import numpy as np\n",
        "from scipy.optimize import fsolve\n",
        "\n",
        "def Gn(s):\n",
        "    return 3*np.exp(-0.1*s)/((2*s + 1)*(0.1*s + 1)**2)\n",
        "\n",
        "def Gp(s):\n",
        "    return 3/(2*s + 1)\n",
        "\n",
        "def lA(Gn, Gp):\n",
        "    return np.abs(Gn - Gp)\n",
        "\n",
        "def WA(s):\n",
        "    return 0.9*s/((2*s + 1)*(0.1*s + 1))\n",
        "\n",
        "def K(k,s):\n",
        "    return k/s\n",
        "\n",
        "omega = np.logspace(-2, 2, 500)\n",
        "\n",
        "plt.figure()\n",
        "plt.loglog(omega, lA(Gn(1j*omega), Gp(1j*omega)), 'b', label='lA(jw)')\n",
        "plt.loglog(omega, WA(1j*omega), 'r', label='WA(jw)')\n",
        "plt.title('Additive uncertainty weight')\n",
        "plt.xlabel('Frequency [rad/s]', fontsize=14)\n",
        "plt.ylabel('Magnitude', fontsize=14)\n",
        "plt.legend(loc=2)\n",
        "plt.show()\n",
        "\n",
        "# RS condition |T|<|G|/|wA|\n",
        "def RScondition(k):\n",
        "    abs_ineq = [abs(Gp(1j*w)*K(k,1j*w)/(1+Gp(1j*w)*K(k,1j*w))) - abs(Gp(1j*w))/abs(WA(1j*w)) for w in omega]\n",
        "    max_ineq = max(abs_ineq)\n",
        "    return max_ineq\n",
        "\n",
        "kcal = fsolve(RScondition,1)\n",
        "print('The maximum value of k that yields stability is = ',np.round(kcal,2))\n",
        "\n",
        "\n"
      ],
      "outputs": [],
      "execution_count": null
    }
  ],
  "metadata": {
    "anaconda-cloud": {},
    "kernelspec": {
      "display_name": "Python 3",
      "language": "python",
      "name": "python3"
    },
    "language_info": {
      "codemirror_mode": {
        "name": "ipython",
        "version": 3
      },
      "file_extension": ".py",
      "mimetype": "text/x-python",
      "name": "python",
      "nbconvert_exporter": "python",
      "pygments_lexer": "ipython3",
      "version": "3.6.1"
    }
  },
  "nbformat": 4,
  "nbformat_minor": 1
}