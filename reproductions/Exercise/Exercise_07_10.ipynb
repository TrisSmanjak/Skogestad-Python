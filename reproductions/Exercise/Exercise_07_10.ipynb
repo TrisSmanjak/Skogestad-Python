{
  "cells": [
    {
      "cell_type": "markdown",
      "metadata": {},
      "source": [
        "Exercise 7.10 on page287 - Skogestad\"\"\"\n",
        "\n",
        "import numpy as np\n",
        "import matplotlib.pyplot as plt\n",
        "%matplotlib inline\n",
        "\n",
        "def G(s):  # G detailed\n",
        "    return 3*(-0.5*s + 1)/((2*s + 1)*(0.1*s + 1)**2)\n",
        "\n",
        "def Gn(s):  # Nominal model\n",
        "    return 3/(2*s + 1)\n",
        "\n",
        "def li(G, Gn):  # Relative uncertainty\n",
        "    return np.abs((G - Gn)/Gn)\n",
        "\n",
        "def Wi1(s):  # Rational transfer function Wi1(s)\n",
        "    return (-0.01*s**2 + 0.3)/(0.1*s + 1)**2\n",
        "\n",
        "def Wi2(s):  # Rational transfer function Wi1(s) of higher order for better fit of li(s)\n",
        "    return ((-0.01*s**2 + 0.3)/(0.1*s + 1)**2)*((0.124*s**2 + 9.008*s + 0.0016)/(0.112*s**2 + 1.339*s + 3.5))\n",
        "\n",
        "w = np.logspace(-3, 3, 1000)\n",
        "s = 1j*w\n",
        "\n",
        "plt.figure(1)\n",
        "plt.loglog(w, li(G(s), Gn(s)), 'b', label = 'li(jw)')\n",
        "plt.loglog(w, np.abs(Wi1(s)), 'g--', label ='Wi1(jw)')  # Wi1(s) of low order (2)\n",
        "plt.loglog(w, np.abs(Wi2(s)), 'r--', label = 'Wi2(jw)>=li(jw)')  # Wi2(s) of higher oder (4) for better fit of li(s)\n",
        "plt.title('Wi(s) approximation of li(s)')\n",
        "plt.xlabel('Frequency [rad/s]', fontsize=14)\n",
        "plt.ylabel('Magnitude', fontsize=14)\n",
        "plt.legend(loc=2)\n",
        "plt.show()"
      ]
    }
  ],
  "metadata": {
    "anaconda-cloud": {},
    "kernelspec": {
      "display_name": "Python 3",
      "language": "python",
      "name": "python3"
    },
    "language_info": {
      "codemirror_mode": {
        "name": "ipython",
        "version": 3
      },
      "file_extension": ".py",
      "mimetype": "text/x-python",
      "name": "python",
      "nbconvert_exporter": "python",
      "pygments_lexer": "ipython3",
      "version": "3.6.1"
    }
  },
  "nbformat": 4,
  "nbformat_minor": 1
}