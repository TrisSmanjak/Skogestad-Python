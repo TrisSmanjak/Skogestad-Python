{
 "cells": [
  {
   "cell_type": "code",
   "execution_count": 2,
   "metadata": {},
   "outputs": [],
   "source": [
    "import sympy \n",
    "sympy.init_printing()"
   ]
  },
  {
   "cell_type": "code",
   "execution_count": 21,
   "metadata": {},
   "outputs": [],
   "source": [
    "a, b, c, δ1, δ2, δ3, δ= sympy.symbols('a, b, c, δ_1, δ_2, δ_3, δ')"
   ]
  },
  {
   "cell_type": "code",
   "execution_count": 22,
   "metadata": {},
   "outputs": [
    {
     "data": {
      "text/latex": [
       "$\\displaystyle \\left( \\left[\\begin{matrix}a δ_{1} & a δ_{2} & a δ_{3}\\\\b δ_{1} & b δ_{2} & b δ_{3}\\\\c δ_{1} & c δ_{2} & c δ_{3}\\end{matrix}\\right], \\  \\left[\\begin{matrix}a δ_{1} & a δ_{2} & a δ_{3}\\\\b δ_{1} & b δ_{2} & b δ_{3}\\\\c δ_{1} & c δ_{2} & c δ_{3}\\end{matrix}\\right]\\right)$"
      ],
      "text/plain": [
       "⎛⎡a⋅δ₁  a⋅δ₂  a⋅δ₃⎤  ⎡a⋅δ₁  a⋅δ₂  a⋅δ₃⎤⎞\n",
       "⎜⎢                ⎥  ⎢                ⎥⎟\n",
       "⎜⎢b⋅δ₁  b⋅δ₂  b⋅δ₃⎥, ⎢b⋅δ₁  b⋅δ₂  b⋅δ₃⎥⎟\n",
       "⎜⎢                ⎥  ⎢                ⎥⎟\n",
       "⎝⎣c⋅δ₁  c⋅δ₂  c⋅δ₃⎦  ⎣c⋅δ₁  c⋅δ₂  c⋅δ₃⎦⎠"
      ]
     },
     "execution_count": 22,
     "metadata": {},
     "output_type": "execute_result"
    }
   ],
   "source": [
    "M = sympy.Matrix([[a, a, a], [b, b, b], [c, c, c]])\n",
    "Mtilde = M[:,0]\n",
    "\n",
    "Δs = sympy.Matrix([[δ1, 0, 0], [0, δ2, 0], [0, 0, δ3]])\n",
    "Δtilde = sympy.Matrix([[δ1, δ2, δ3]])\n",
    "\n",
    "M*Δs, Mtilde*Δtilde"
   ]
  },
  {
   "cell_type": "code",
   "execution_count": 25,
   "metadata": {},
   "outputs": [
    {
     "data": {
      "image/png": "[encoded data removed]",
      "text/latex": [
       "$\\displaystyle - a δ - b δ - c δ + 1$"
      ],
      "text/plain": [
       "-a⋅δ - b⋅δ - c⋅δ + 1"
      ]
     },
     "execution_count": 25,
     "metadata": {},
     "output_type": "execute_result"
    }
   ],
   "source": [
    "eq = (sympy.eye(1) - Δtilde*Mtilde).det().subs(δ1, δ).subs(δ2, δ).subs(δ3, δ)\n",
    "eq"
   ]
  },
  {
   "cell_type": "code",
   "execution_count": 30,
   "metadata": {},
   "outputs": [
    {
     "data": {
      "image/png": "[encoded data removed]",
      "text/latex": [
       "$\\displaystyle \\frac{1}{a + b + c}$"
      ],
      "text/plain": [
       "    1    \n",
       "─────────\n",
       "a + b + c"
      ]
     },
     "execution_count": 30,
     "metadata": {},
     "output_type": "execute_result"
    }
   ],
   "source": [
    "δf = sympy.solve(eq, δ)[0]\n",
    "δf"
   ]
  },
  {
   "cell_type": "code",
   "execution_count": 31,
   "metadata": {},
   "outputs": [
    {
     "data": {
      "image/png": "[encoded data removed]",
      "text/latex": [
       "$\\displaystyle a + b + c$"
      ],
      "text/plain": [
       "a + b + c"
      ]
     },
     "execution_count": 31,
     "metadata": {},
     "output_type": "execute_result"
    }
   ],
   "source": [
    "μ = 1/δf\n",
    "μ"
   ]
  }
 ],
 "metadata": {
  "kernelspec": {
   "display_name": "Python 3",
   "language": "python",
   "name": "python3"
  },
  "language_info": {
   "codemirror_mode": {
    "name": "ipython",
    "version": 3
   },
   "file_extension": ".py",
   "mimetype": "text/x-python",
   "name": "python",
   "nbconvert_exporter": "python",
   "pygments_lexer": "ipython3",
   "version": "3.7.4"
  }
 },
 "nbformat": 4,
 "nbformat_minor": 4
}
