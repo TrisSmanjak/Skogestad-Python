{
  "cells": [
    {
      "cell_type": "code",
      "metadata": {},
      "source": [
        "# -*- coding: utf-8 -*-\n",
        "\"\"\"\n",
        "Created on Sat May 31 15:59:13 2014\n",
        "\n",
        "@author: pedawson\n",
        "\n",
        "Skogestad Exercise 2.4\n",
        "\"\"\"\n",
        "\n",
        "import numpy as np\n",
        "import matplotlib.pyplot as plt\n",
        "%matplotlib inline\n",
        "\n",
        "\n",
        "M = 2.\n",
        "A = 0.1\n",
        "wB = 1\n",
        "n = 2.\n",
        "w = np.logspace(-2, 2, 1000)\n",
        "s = w*1j\n",
        "Wp_2_105 = (s/M + wB)/(s + wB*A)\n",
        "Wp_2_106 = ((s/(M**(1/n)) + wB)**n)/((s + wB*A**(1/n))**n)\n",
        "plt.figure('Performance Weights')\n",
        "plt.clf()\n",
        "plt.loglog(w, 1/np.abs(Wp_2_105), 'k-', label='$W_p2.105$')\n",
        "plt.loglog(w, 1/np.abs(Wp_2_106), 'b-', label='$W_p2.106$')\n",
        "plt.legend(loc='upper left', fontsize=10, ncol=1)\n",
        "plt.axhline(1, ls=':', color='red', lw=2)\n",
        "plt.text(0.012, 1.1, 'Mag = 1', color='red', fontsize=10)\n",
        "plt.text(40, 2.6, 'Max |S|', color='green', fontsize=10)\n",
        "plt.text(10, 2.1, 'Peak specification (M)', color='green', fontsize=10)\n",
        "plt.text(0.011, 0.08, 'Max SS tracking error (A)', color='green', fontsize=10)\n",
        "plt.axvline(wB, ls=':', color='red', lw=2)\n",
        "plt.text(wB*1.1, 8, 'wB', color='red', fontsize=10)\n",
        "plt.xlabel('Frequency [rad/s]')\n",
        "plt.ylabel('Magnitude')\n",
        "plt.grid(True)\n",
        "fig = plt.gcf()\n",
        "BG = fig.patch\n",
        "BG.set_facecolor('white')\n",
        "plt.show()\n",
        "\n",
        "\n"
      ],
      "outputs": [],
      "execution_count": null
    }
  ],
  "metadata": {
    "anaconda-cloud": {},
    "kernelspec": {
      "display_name": "Python 3",
      "language": "python",
      "name": "python3"
    },
    "language_info": {
      "codemirror_mode": {
        "name": "ipython",
        "version": 3
      },
      "file_extension": ".py",
      "mimetype": "text/x-python",
      "name": "python",
      "nbconvert_exporter": "python",
      "pygments_lexer": "ipython3",
      "version": "3.6.1"
    }
  },
  "nbformat": 4,
  "nbformat_minor": 1
}