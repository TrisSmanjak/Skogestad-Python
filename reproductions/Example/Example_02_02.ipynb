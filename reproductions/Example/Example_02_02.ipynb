{
  "cells": [
    {
      "cell_type": "code",
      "metadata": {},
      "source": [
        "import matplotlib.pyplot as plt\n",
        "%matplotlib inline\n",
        "import numpy as np\n",
        "\n",
        "from utils import feedback, tf\n",
        "\n",
        "# Process model of G with various Controller Gains\n",
        "s = tf([1, 0], 1)\n",
        "G = 3*(-2*s + 1)/((10*s + 1)*(5*s + 1))\n",
        "\n",
        "# Configure plot and generate timespan\n",
        "tspan = np.linspace(0, 50, 100)\n",
        "plt.figure('Figure 2.6')\n",
        "plt.title('Effect of proportional gain Kc on closed loop response')\n",
        "\n",
        "# Calculate the time domain response\n",
        "Ks = [0.5, 1.5, 2, 2.5, 3.0]\n",
        "for K in Ks:\n",
        "    T = feedback(G * K, 1)\n",
        "    [t, y] = T.step(0, tspan)\n",
        "    if K >= 3.0:\n",
        "        plt.plot(t, y, '-.')\n",
        "    else:\n",
        "        plt.plot(t, y)\n",
        "\n",
        "# Plot the time domain response\n",
        "plt.legend([\"Kc = %1.1f\" % K for K in Ks])\n",
        "plt.xlabel('Time [s]')\n",
        "plt.ylim(-0.5, 2.5)\n",
        "plt.show()\n"
      ],
      "outputs": [],
      "execution_count": null
    }
  ],
  "metadata": {
    "anaconda-cloud": {},
    "kernelspec": {
      "display_name": "Python 3",
      "language": "python",
      "name": "python3"
    },
    "language_info": {
      "codemirror_mode": {
        "name": "ipython",
        "version": 3
      },
      "file_extension": ".py",
      "mimetype": "text/x-python",
      "name": "python",
      "nbconvert_exporter": "python",
      "pygments_lexer": "ipython3",
      "version": "3.6.1"
    }
  },
  "nbformat": 4,
  "nbformat_minor": 1
}