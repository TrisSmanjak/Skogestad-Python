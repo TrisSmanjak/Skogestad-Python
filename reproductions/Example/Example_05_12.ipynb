{
  "cells": [
    {
      "cell_type": "code",
      "metadata": {},
      "source": [
        "\n",
        "\"This code plots figure 5.15 of Example 5.12...\"\n",
        "\n",
        "import numpy as np\n",
        "import matplotlib.pyplot as plt\n",
        "%matplotlib inline\n",
        "\n",
        "\n",
        "w = np.logspace(-3, 3, 1000)\n",
        "s = w*1j\n",
        "\n",
        "\n",
        "def G(s):\n",
        "    G = 40/((5*s+1)*(2.5*s+1))\n",
        "    return G\n",
        "\n",
        "\n",
        "def Gd(s):\n",
        "    Gd = 3*((50*s+1)/((s+1)*(10*s + 1)))\n",
        "    return Gd\n",
        "\n",
        "\n",
        "plt.figure(1)\n",
        "plt.loglog(w, [abs(G(thisw)) for thisw in w], color=\"green\", label=\"|G|\")\n",
        "plt.loglog(w, [abs(Gd(thisw)) for thisw in w], color=\"black\", label=\"|Gd|\")\n",
        "plt.loglog(w, np.ones(len(w)), '-.')\n",
        "plt.legend(loc=1)\n",
        "#plt.title('|G| & |Gd| over frequency')\n",
        "plt.xlabel('frequency [rad/s]')\n",
        "plt.ylabel('Magnitude')\n",
        "plt.show()\n",
        "\n",
        "\n"
      ],
      "outputs": [],
      "execution_count": null
    }
  ],
  "metadata": {
    "anaconda-cloud": {},
    "kernelspec": {
      "display_name": "Python 3",
      "language": "python",
      "name": "python3"
    },
    "language_info": {
      "codemirror_mode": {
        "name": "ipython",
        "version": 3
      },
      "file_extension": ".py",
      "mimetype": "text/x-python",
      "name": "python",
      "nbconvert_exporter": "python",
      "pygments_lexer": "ipython3",
      "version": "3.6.1"
    }
  },
  "nbformat": 4,
  "nbformat_minor": 1
}