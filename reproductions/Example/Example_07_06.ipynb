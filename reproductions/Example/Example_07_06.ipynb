{
  "cells": [
    {
      "cell_type": "code",
      "metadata": {},
      "source": [
        "import numpy as np\n",
        "import matplotlib.pyplot as plt\n",
        "%matplotlib inline\n",
        "\n",
        "w = np.logspace(-2, 1, 100)\n",
        "s = w * 1j\n",
        "\n",
        "plt.figure('Figure 7.6')\n",
        "\n",
        "T = 4\n",
        "wI1 = (T * s + 0.2) / (T/2.5 * s + 1)\n",
        "plt.loglog(w, np.abs(wI1), \"r\")\n",
        "\n",
        "wI2 = wI1 * (s**2 + 1.6 * s + 1) / (s**2 + 1.4 * s + 1)\n",
        "plt.loglog(w, np.abs(wI2), \"--\",color='lime',linewidth=2)\n",
        "\n",
        "k = 2.5\n",
        "tau = 2.5\n",
        "Gp0 = Gp = k / (tau * s + 1)\n",
        "\n",
        "pars = [2, 2.5, 3]\n",
        "for p1 in range(0, 3):\n",
        "    theta = pars[p1]\n",
        "    for p2 in range(0, 3):\n",
        "        k = pars[p2]\n",
        "        for p3 in range(0, 3):\n",
        "            tau = pars[p3]\n",
        "            Gp = k / (tau * s + 1) * np.exp(-theta * s)\n",
        "            lI = np.abs((Gp - Gp0) / Gp0)\n",
        "            plt.loglog(w, lI, \"b-.\")\n",
        "\n",
        "\n",
        "plt.ylabel('Magnitude')\n",
        "plt.xlabel('Frequency')\n",
        "plt.legend([r'$W_{I1}$', r'$W_{I2}$', 'Perturbed plants'],\n",
        "           bbox_to_anchor=(0, 1.01, 1, 0), loc=3, ncol=3)\n",
        "\n",
        "plt.show()\n"
      ],
      "outputs": [],
      "execution_count": null
    }
  ],
  "metadata": {
    "anaconda-cloud": {},
    "kernelspec": {
      "display_name": "Python 3",
      "language": "python",
      "name": "python3"
    },
    "language_info": {
      "codemirror_mode": {
        "name": "ipython",
        "version": 3
      },
      "file_extension": ".py",
      "mimetype": "text/x-python",
      "name": "python",
      "nbconvert_exporter": "python",
      "pygments_lexer": "ipython3",
      "version": "3.6.1"
    }
  },
  "nbformat": 4,
  "nbformat_minor": 1
}