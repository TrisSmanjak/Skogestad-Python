{
 "cells": [
  {
   "cell_type": "code",
   "execution_count": 2,
   "metadata": {},
   "outputs": [],
   "source": [
    "from __future__ import print_function\n",
    "import numpy as np\n",
    "import matplotlib.pyplot as plt\n",
    "%matplotlib inline\n",
    "import scipy.optimize\n",
    "from robustcontrol import utils"
   ]
  },
  {
   "cell_type": "code",
   "execution_count": 2,
   "metadata": {},
   "outputs": [],
   "source": [
    "omega = np.logspace(-3, 2, 200)\n",
    "s = 1j * omega\n",
    "\n",
    "I = np.identity(2)\n",
    "\n",
    "def KG(s):\n",
    "    Ggain = np.matrix([[-87.8, 1.4],\n",
    "                       [-108.2, -1.4]])\n",
    "    Kgain = np.matrix([[-0.0015, 0],\n",
    "                       [0, -0.075]])\n",
    "    return 1/s*Kgain*Ggain\n",
    "\n",
    "\n",
    "def w_I(s):\n",
    "    \"\"\"magnitude multiplicative uncertainty in  each input\"\"\"\n",
    "    return (s + 0.2) / (0.5 * s + 1)"
   ]
  },
  {
   "cell_type": "code",
   "execution_count": 3,
   "metadata": {},
   "outputs": [
    {
     "data": {
      "text/plain": [
       "<matplotlib.legend.Legend at 0x2ba76110b48>"
      ]
     },
     "execution_count": 3,
     "metadata": {},
     "output_type": "execute_result"
    },
    {
     "data": {
      "image/png": "[encoded data removed]",
      "text/plain": [
       "<Figure size 432x288 with 1 Axes>"
      ]
     },
     "metadata": {
      "needs_background": "light"
     },
     "output_type": "display_data"
    }
   ],
   "source": [
    "ω = np.logspace(-3, 2, 200)\n",
    "s = 1j*ω\n",
    "plt.axhline(1, c='b', ls='--')\n",
    "plt.axvline(1, c='b', ls='--', label='100% uncertainty')\n",
    "plt.axhline(0.2, c='r', ls='--', label='20% uncertainty')\n",
    "plt.loglog(ω, np.abs(w_I(s)), 'k',label=r'$1/|w_I(j\\omega)|$')\n",
    "plt.legend()"
   ]
  },
  {
   "cell_type": "code",
   "execution_count": 1,
   "metadata": {},
   "outputs": [
    {
     "ename": "ModuleNotFoundError",
     "evalue": "No module named 'robustcontrol'",
     "output_type": "error",
     "traceback": [
      "\u001b[1;31m---------------------------------------------------------------------------\u001b[0m",
      "\u001b[1;31mModuleNotFoundError\u001b[0m                       Traceback (most recent call last)",
      "\u001b[1;32m<ipython-input-1-54f8b1726e89>\u001b[0m in \u001b[0;36m<module>\u001b[1;34m\u001b[0m\n\u001b[0;32m      5\u001b[0m \u001b[1;32mimport\u001b[0m \u001b[0mscipy\u001b[0m\u001b[1;33m.\u001b[0m\u001b[0moptimize\u001b[0m\u001b[1;33m\u001b[0m\u001b[1;33m\u001b[0m\u001b[0m\n\u001b[0;32m      6\u001b[0m \u001b[1;33m\u001b[0m\u001b[0m\n\u001b[1;32m----> 7\u001b[1;33m \u001b[1;32mfrom\u001b[0m \u001b[0mrobustcontrol\u001b[0m \u001b[1;32mimport\u001b[0m \u001b[0mutils\u001b[0m\u001b[1;33m\u001b[0m\u001b[1;33m\u001b[0m\u001b[0m\n\u001b[0m\u001b[0;32m      8\u001b[0m \u001b[1;33m\u001b[0m\u001b[0m\n\u001b[0;32m      9\u001b[0m \u001b[1;33m\u001b[0m\u001b[0m\n",
      "\u001b[1;31mModuleNotFoundError\u001b[0m: No module named 'robustcontrol'"
     ]
    }
   ],
   "source": [
    "def T_I(s):\n",
    "    return KG(s) * (I + KG(s)).I\n",
    "\n",
    "\n",
    "def M(s):\n",
    "    return w_I(s) * T_I(s)\n",
    "\n",
    "\n",
    "def maxsigma(G):\n",
    "    return max(utils.sigmas(G))\n",
    "\n",
    "def specrad(G):\n",
    "    return max(np.abs(np.linalg.eigvals(G)))\n",
    "\n",
    "def mu_ubound(G):\n",
    "    \"\"\" We use equation 8.87 and minimise directly\n",
    "    \"\"\"\n",
    "    def scaled_system(d0):\n",
    "        dn = 1  # we set dn = 1 as in note 10 of 8.8.3\n",
    "        D = np.asmatrix(np.diag([d0[0], dn]))\n",
    "        return maxsigma(D*G*D.I)\n",
    "    r = scipy.optimize.minimize(scaled_system, 1)\n",
    "    return r['fun']\n",
    "\n",
    "\n",
    "\n",
    "T_Is = list(map(T_I, s))\n",
    "\n",
    "print('Robust Stability (RS) is attained if mu(T_I(jw)) < 1/|w_I(jw)| for all applicable omega range')\n",
    "\n",
    "def F_of_T_I(func):\n",
    "    return [func(T) for T in T_Is]\n",
    "\n",
    "    plt.loglog(omega, F_of_T_I(maxsigma),\n",
    "               label=r'$\\bar\\sigma(T_I)$')\n",
    "\n",
    "\n",
    "plt.loglog(omega, F_of_T_I(maxsigma),\n",
    "           label=r'$\\bar\\sigma(T_I)$')\n",
    "plt.loglog(omega, 1 / np.abs(w_I(s)),\n",
    "           label=r'$1/|w_I(j\\omega)|$')\n",
    "plt.loglog(omega, F_of_T_I(specrad),\n",
    "           label=r'$\\rho$')\n",
    "plt.loglog(omega, F_of_T_I(mu_ubound),\n",
    "           label=r'$\\min_{D}\\bar\\sigma(DT_ID^{-1})$')\n",
    "plt.legend(loc='best')\n",
    "plt.xlabel(r'$\\omega$')\n",
    "plt.ylabel('Magnitude')\n",
    "\n",
    "plt.show()"
   ]
  },
  {
   "cell_type": "code",
   "execution_count": null,
   "metadata": {},
   "outputs": [],
   "source": []
  }
 ],
 "metadata": {
  "anaconda-cloud": {},
  "kernelspec": {
   "display_name": "Python 3",
   "language": "python",
   "name": "python3"
  },
  "language_info": {
   "codemirror_mode": {
    "name": "ipython",
    "version": 3
   },
   "file_extension": ".py",
   "mimetype": "text/x-python",
   "name": "python",
   "nbconvert_exporter": "python",
   "pygments_lexer": "ipython3",
   "version": "3.7.4"
  }
 },
 "nbformat": 4,
 "nbformat_minor": 4
}
